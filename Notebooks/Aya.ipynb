{
 "cells": [
  {
   "cell_type": "code",
   "execution_count": 1,
   "metadata": {},
   "outputs": [],
   "source": [
    "import pandas as pd\n",
    "from sklearn.model_selection import train_test_split\n",
    "from sklearn.metrics import accuracy_score, f1_score\n",
    "import numpy as np"
   ]
  },
  {
   "cell_type": "code",
   "execution_count": 2,
   "metadata": {},
   "outputs": [],
   "source": [
    "import warnings\n",
    "from sklearn.exceptions import DataConversionWarning\n",
    "\n",
    "warnings.filterwarnings(action='ignore', category=DataConversionWarning)"
   ]
  },
  {
   "cell_type": "code",
   "execution_count": 3,
   "metadata": {},
   "outputs": [],
   "source": [
    "X_train = pd.read_csv(\"X_train.csv\", index_col=\"Index\")\n",
    "y_train = pd.read_csv(\"y_train.csv\")\n",
    "X_test = pd.read_csv(\"X_test.csv\", index_col=\"Index\")"
   ]
  },
  {
   "cell_type": "code",
   "execution_count": 4,
   "metadata": {
    "scrolled": true
   },
   "outputs": [],
   "source": [
    "X_train.drop_duplicates(inplace=True)\n",
    "X_test.drop_duplicates(inplace=True)"
   ]
  },
  {
   "cell_type": "code",
   "execution_count": 5,
   "metadata": {},
   "outputs": [],
   "source": [
    "# NaN in these three following columns means there were no trades => We fill these NaN with 0\n",
    "X_train['OTR'].fillna(0, inplace=True)\n",
    "X_train['OCR'].fillna(0, inplace=True)\n",
    "X_train['OMR'].fillna(0, inplace=True)\n",
    "X_test['OTR'].fillna(0, inplace=True)\n",
    "X_test['OCR'].fillna(0, inplace=True)\n",
    "X_test['OMR'].fillna(0, inplace=True)"
   ]
  },
  {
   "cell_type": "code",
   "execution_count": 6,
   "metadata": {},
   "outputs": [],
   "source": [
    "# We replace the NaN of the statistics over the observed time delta between two trades on the trading venue TV_1 with their average\n",
    "columns = ['min_dt_TV1', 'mean_dt_TV1', 'med_dt_TV1']\n",
    "for col in columns:\n",
    "        X_train[col] = X_train[col].fillna(np.mean(X_train[col]))\n",
    "        X_test[col] = X_test[col].fillna(np.mean(X_test[col]))"
   ]
  },
  {
   "cell_type": "code",
   "execution_count": 7,
   "metadata": {},
   "outputs": [],
   "source": [
    "# We drop the remaining irrelevant columns\n",
    "X_train.dropna(axis=1, inplace=True)\n",
    "X_test.dropna(axis=1, inplace=True)"
   ]
  },
  {
   "cell_type": "code",
   "execution_count": 8,
   "metadata": {},
   "outputs": [],
   "source": [
    "# We retrieve y_train in the right format\n",
    "Xy_train = pd.merge(X_train, y_train, on='Trader')\n",
    "y_train_formatted = Xy_train['type'].to_frame()"
   ]
  },
  {
   "cell_type": "code",
   "execution_count": 9,
   "metadata": {},
   "outputs": [],
   "source": [
    "# We retrieve the 'Traders' column to keep trace of them for later\n",
    "X_train_traders = X_train['Trader'].to_frame()\n",
    "X_test_traders = X_test['Trader'].to_frame()\n",
    "# Dropping the categorical features\n",
    "X_train.drop(columns=['Share', 'Day', 'Trader'], inplace=True)\n",
    "X_test.drop(columns=['Share', 'Day', 'Trader'], inplace=True)"
   ]
  },
  {
   "cell_type": "markdown",
   "metadata": {},
   "source": [
    "# Testing different models"
   ]
  },
  {
   "cell_type": "code",
   "execution_count": 10,
   "metadata": {},
   "outputs": [],
   "source": [
    "# # Splitting the training set into train and test\n",
    "# X_tr, X_te, y_tr, y_te = train_test_split(X_train, y_train_formatted, test_size=0.3, random_state=42)"
   ]
  },
  {
   "cell_type": "code",
   "execution_count": 11,
   "metadata": {},
   "outputs": [],
   "source": [
    "# from sklearn.neighbors import KNeighborsClassifier\n",
    "\n",
    "# model_knn = KNeighborsClassifier()\n",
    "# preds_knn = model_knn.fit(X_tr, y_tr).predict(X_te)\n",
    "# print('KNN accuracy %s' % f1_score(preds_knn, y_te, average='micro'))"
   ]
  },
  {
   "cell_type": "code",
   "execution_count": 12,
   "metadata": {},
   "outputs": [],
   "source": [
    "# from sklearn.ensemble import RandomForestClassifier\n",
    "\n",
    "# model_rf = RandomForestClassifier()\n",
    "# preds_rf = model_rf.fit(X_tr, y_tr).predict(X_te)\n",
    "# print('Random Forest accuracy %s' % f1_score(preds_rf, y_te, average='micro'))"
   ]
  },
  {
   "cell_type": "code",
   "execution_count": 13,
   "metadata": {},
   "outputs": [],
   "source": [
    "# from lightgbm import LGBMClassifier\n",
    "\n",
    "# model_lgbm = LGBMClassifier(boosting_type='dart', n_estimators=5000,\n",
    "#                             subsample=0.9, colsample_bytree=0.9, subsample_freq=1, uniform_drop=True)\n",
    "# preds_lgbm = model_lgbm.fit(X_tr, y_tr).predict(X_te)\n",
    "# print('LightGBM accuracy %s' % f1_score(preds_lgbm, y_te, average='micro'))"
   ]
  },
  {
   "cell_type": "code",
   "execution_count": 14,
   "metadata": {},
   "outputs": [],
   "source": [
    "# from xgboost import XGBClassifier\n",
    "\n",
    "# model_xgb = XGBClassifier(booster='dart', n_estimators=1000, learning_rate=0.1, max_depth=5, subsample=0.9,\n",
    "#                      colsample_bytree = 0.9)\n",
    "# preds_xgb = model_xgb.fit(X_tr, y_tr).predict(X_te)\n",
    "# print('XGBoost accuracy %s' % f1_score(preds_xgb, y_te, average='micro'))"
   ]
  },
  {
   "cell_type": "code",
   "execution_count": 15,
   "metadata": {},
   "outputs": [],
   "source": [
    "# from catboost import CatBoostClassifier\n",
    "\n",
    "# model_cb = CatBoostClassifier(n_estimators=5000, learning_rate=0.1, max_depth=10, verbose=0)\n",
    "# preds_cb = model_cb.fit(X_tr, y_tr).predict(X_te)\n",
    "# print('CatBoost accuracy %s' % f1_score(preds_cb, y_te, average='micro'))"
   ]
  },
  {
   "cell_type": "code",
   "execution_count": 16,
   "metadata": {},
   "outputs": [],
   "source": [
    "# from sklearn.ensemble import VotingClassifier\n",
    "\n",
    "# model_vot = VotingClassifier(estimators=[('rf', model_rf), ('lgbm', model_lgbm),\n",
    "#                                               ('xgb', model_xgb), ('cb', model_cb)], voting='soft')\n",
    "# preds_vot = model_vot.fit(X_tr, y_tr).predict(X_te)\n",
    "# print('Soft Voting accuracy %s' % f1_score(preds_vot, y_te, average='micro'))"
   ]
  },
  {
   "cell_type": "markdown",
   "metadata": {},
   "source": [
    "# Retrieving final results"
   ]
  },
  {
   "cell_type": "code",
   "execution_count": 27,
   "metadata": {},
   "outputs": [],
   "source": [
    "def freq_predictions(traders, y_pred):\n",
    "\n",
    "    res = pd.DataFrame(traders)\n",
    "    res['pred'] = y_pred\n",
    "    res['count'] = 1\n",
    "\n",
    "    predictions = res.groupby(['Trader', 'pred']).count() / res.groupby(['Trader']).count()\n",
    "    predictions = predictions.unstack(level=1).drop(columns=['pred']).fillna(0)\n",
    "    predictions.columns = predictions.columns.get_level_values(1)\n",
    "    \n",
    "    return predictions"
   ]
  },
  {
   "cell_type": "code",
   "execution_count": 24,
   "metadata": {},
   "outputs": [],
   "source": [
    "def final_classification(predictions):\n",
    "\n",
    "    predictions.reset_index(inplace=True)\n",
    "    predictions['type'] = 'NON HFT'\n",
    "    \n",
    "    for i in range(len(predictions)):\n",
    "        if predictions.iloc[i]['HFT'] >= 0.85:\n",
    "            predictions.at[i, 'type'] = 'HFT'\n",
    "        elif predictions.iloc[i]['MIX'] > 0.5:\n",
    "            predictions.at[i, 'type'] = 'MIX'\n",
    "    predictions.drop(columns=['HFT','MIX','NON HFT'], inplace=True)\n",
    "    \n",
    "    return predictions"
   ]
  },
  {
   "cell_type": "code",
   "execution_count": 19,
   "metadata": {},
   "outputs": [],
   "source": [
    "from lightgbm import LGBMClassifier\n",
    "\n",
    "model_lgbm = LGBMClassifier(boosting_type='dart', n_estimators=5000,\n",
    "                            subsample=0.9, colsample_bytree=0.9, subsample_freq=1, uniform_drop=True)\n",
    "y_pred = model_lgbm.fit(X_train, y_train_formatted).predict(X_test)"
   ]
  },
  {
   "cell_type": "code",
   "execution_count": 28,
   "metadata": {},
   "outputs": [
    {
     "data": {
      "text/html": [
       "<div>\n",
       "<style scoped>\n",
       "    .dataframe tbody tr th:only-of-type {\n",
       "        vertical-align: middle;\n",
       "    }\n",
       "\n",
       "    .dataframe tbody tr th {\n",
       "        vertical-align: top;\n",
       "    }\n",
       "\n",
       "    .dataframe thead th {\n",
       "        text-align: right;\n",
       "    }\n",
       "</style>\n",
       "<table border=\"1\" class=\"dataframe\">\n",
       "  <thead>\n",
       "    <tr style=\"text-align: right;\">\n",
       "      <th>pred</th>\n",
       "      <th>HFT</th>\n",
       "      <th>MIX</th>\n",
       "      <th>NON HFT</th>\n",
       "    </tr>\n",
       "    <tr>\n",
       "      <th>Trader</th>\n",
       "      <th></th>\n",
       "      <th></th>\n",
       "      <th></th>\n",
       "    </tr>\n",
       "  </thead>\n",
       "  <tbody>\n",
       "    <tr>\n",
       "      <th>Adelaide</th>\n",
       "      <td>0.000000</td>\n",
       "      <td>0.100000</td>\n",
       "      <td>0.900000</td>\n",
       "    </tr>\n",
       "    <tr>\n",
       "      <th>Alana</th>\n",
       "      <td>0.000000</td>\n",
       "      <td>0.000000</td>\n",
       "      <td>1.000000</td>\n",
       "    </tr>\n",
       "    <tr>\n",
       "      <th>Alcmene</th>\n",
       "      <td>0.062500</td>\n",
       "      <td>0.000000</td>\n",
       "      <td>0.937500</td>\n",
       "    </tr>\n",
       "    <tr>\n",
       "      <th>Alice</th>\n",
       "      <td>1.000000</td>\n",
       "      <td>0.000000</td>\n",
       "      <td>0.000000</td>\n",
       "    </tr>\n",
       "    <tr>\n",
       "      <th>Alices Sister</th>\n",
       "      <td>0.049180</td>\n",
       "      <td>0.076503</td>\n",
       "      <td>0.874317</td>\n",
       "    </tr>\n",
       "    <tr>\n",
       "      <th>...</th>\n",
       "      <td>...</td>\n",
       "      <td>...</td>\n",
       "      <td>...</td>\n",
       "    </tr>\n",
       "    <tr>\n",
       "      <th>Monstro</th>\n",
       "      <td>0.000000</td>\n",
       "      <td>1.000000</td>\n",
       "      <td>0.000000</td>\n",
       "    </tr>\n",
       "    <tr>\n",
       "      <th>Morgana</th>\n",
       "      <td>0.010695</td>\n",
       "      <td>0.973262</td>\n",
       "      <td>0.016043</td>\n",
       "    </tr>\n",
       "    <tr>\n",
       "      <th>The Doorknob</th>\n",
       "      <td>0.894737</td>\n",
       "      <td>0.065789</td>\n",
       "      <td>0.039474</td>\n",
       "    </tr>\n",
       "    <tr>\n",
       "      <th>The Doorman</th>\n",
       "      <td>0.977143</td>\n",
       "      <td>0.016190</td>\n",
       "      <td>0.006667</td>\n",
       "    </tr>\n",
       "    <tr>\n",
       "      <th>The Magic Mirror</th>\n",
       "      <td>0.000945</td>\n",
       "      <td>0.997637</td>\n",
       "      <td>0.001418</td>\n",
       "    </tr>\n",
       "  </tbody>\n",
       "</table>\n",
       "<p>85 rows × 3 columns</p>\n",
       "</div>"
      ],
      "text/plain": [
       "pred                   HFT       MIX   NON HFT\n",
       "Trader                                        \n",
       "Adelaide          0.000000  0.100000  0.900000\n",
       "Alana             0.000000  0.000000  1.000000\n",
       "Alcmene           0.062500  0.000000  0.937500\n",
       "Alice             1.000000  0.000000  0.000000\n",
       "Alices Sister     0.049180  0.076503  0.874317\n",
       "...                    ...       ...       ...\n",
       "Monstro           0.000000  1.000000  0.000000\n",
       "Morgana           0.010695  0.973262  0.016043\n",
       "The Doorknob      0.894737  0.065789  0.039474\n",
       "The Doorman       0.977143  0.016190  0.006667\n",
       "The Magic Mirror  0.000945  0.997637  0.001418\n",
       "\n",
       "[85 rows x 3 columns]"
      ]
     },
     "execution_count": 28,
     "metadata": {},
     "output_type": "execute_result"
    }
   ],
   "source": [
    "predictions = freq_predictions(X_test_traders, y_pred)\n",
    "predictions"
   ]
  },
  {
   "cell_type": "code",
   "execution_count": 29,
   "metadata": {},
   "outputs": [
    {
     "data": {
      "text/html": [
       "<div>\n",
       "<style scoped>\n",
       "    .dataframe tbody tr th:only-of-type {\n",
       "        vertical-align: middle;\n",
       "    }\n",
       "\n",
       "    .dataframe tbody tr th {\n",
       "        vertical-align: top;\n",
       "    }\n",
       "\n",
       "    .dataframe thead th {\n",
       "        text-align: right;\n",
       "    }\n",
       "</style>\n",
       "<table border=\"1\" class=\"dataframe\">\n",
       "  <thead>\n",
       "    <tr style=\"text-align: right;\">\n",
       "      <th>pred</th>\n",
       "      <th>Trader</th>\n",
       "      <th>type</th>\n",
       "    </tr>\n",
       "  </thead>\n",
       "  <tbody>\n",
       "    <tr>\n",
       "      <th>0</th>\n",
       "      <td>Adelaide</td>\n",
       "      <td>NON HFT</td>\n",
       "    </tr>\n",
       "    <tr>\n",
       "      <th>1</th>\n",
       "      <td>Alana</td>\n",
       "      <td>NON HFT</td>\n",
       "    </tr>\n",
       "    <tr>\n",
       "      <th>2</th>\n",
       "      <td>Alcmene</td>\n",
       "      <td>NON HFT</td>\n",
       "    </tr>\n",
       "    <tr>\n",
       "      <th>3</th>\n",
       "      <td>Alice</td>\n",
       "      <td>HFT</td>\n",
       "    </tr>\n",
       "    <tr>\n",
       "      <th>4</th>\n",
       "      <td>Alices Sister</td>\n",
       "      <td>NON HFT</td>\n",
       "    </tr>\n",
       "    <tr>\n",
       "      <th>...</th>\n",
       "      <td>...</td>\n",
       "      <td>...</td>\n",
       "    </tr>\n",
       "    <tr>\n",
       "      <th>80</th>\n",
       "      <td>Monstro</td>\n",
       "      <td>MIX</td>\n",
       "    </tr>\n",
       "    <tr>\n",
       "      <th>81</th>\n",
       "      <td>Morgana</td>\n",
       "      <td>MIX</td>\n",
       "    </tr>\n",
       "    <tr>\n",
       "      <th>82</th>\n",
       "      <td>The Doorknob</td>\n",
       "      <td>HFT</td>\n",
       "    </tr>\n",
       "    <tr>\n",
       "      <th>83</th>\n",
       "      <td>The Doorman</td>\n",
       "      <td>HFT</td>\n",
       "    </tr>\n",
       "    <tr>\n",
       "      <th>84</th>\n",
       "      <td>The Magic Mirror</td>\n",
       "      <td>MIX</td>\n",
       "    </tr>\n",
       "  </tbody>\n",
       "</table>\n",
       "<p>85 rows × 2 columns</p>\n",
       "</div>"
      ],
      "text/plain": [
       "pred            Trader     type\n",
       "0             Adelaide  NON HFT\n",
       "1                Alana  NON HFT\n",
       "2              Alcmene  NON HFT\n",
       "3                Alice      HFT\n",
       "4        Alices Sister  NON HFT\n",
       "..                 ...      ...\n",
       "80             Monstro      MIX\n",
       "81             Morgana      MIX\n",
       "82        The Doorknob      HFT\n",
       "83         The Doorman      HFT\n",
       "84    The Magic Mirror      MIX\n",
       "\n",
       "[85 rows x 2 columns]"
      ]
     },
     "execution_count": 29,
     "metadata": {},
     "output_type": "execute_result"
    }
   ],
   "source": [
    "final_res = final_classification(predictions)\n",
    "final_res"
   ]
  },
  {
   "cell_type": "code",
   "execution_count": 30,
   "metadata": {},
   "outputs": [],
   "source": [
    "title = 'final_sub.csv'\n",
    "final_res.to_csv(title, index=False)"
   ]
  }
 ],
 "metadata": {
  "kernelspec": {
   "display_name": "Python 3",
   "language": "python",
   "name": "python3"
  },
  "language_info": {
   "codemirror_mode": {
    "name": "ipython",
    "version": 3
   },
   "file_extension": ".py",
   "mimetype": "text/x-python",
   "name": "python",
   "nbconvert_exporter": "python",
   "pygments_lexer": "ipython3",
   "version": "3.8.3"
  }
 },
 "nbformat": 4,
 "nbformat_minor": 4
}
