{
 "cells": [
  {
   "cell_type": "code",
   "execution_count": 1,
   "metadata": {},
   "outputs": [],
   "source": [
    "import pandas as pd\n",
    "from sklearn.model_selection import train_test_split\n",
    "from sklearn.metrics import accuracy_score, f1_score\n",
    "import numpy as np"
   ]
  },
  {
   "cell_type": "code",
   "execution_count": 2,
   "metadata": {},
   "outputs": [],
   "source": [
    "X_train = pd.read_csv(\"X_train.csv\", index_col=\"Index\")\n",
    "y_train = pd.read_csv(\"y_train.csv\")\n",
    "X_test = pd.read_csv(\"X_test.csv\", index_col=\"Index\")"
   ]
  },
  {
   "cell_type": "code",
   "execution_count": 3,
   "metadata": {
    "scrolled": true
   },
   "outputs": [],
   "source": [
    "X_train.drop_duplicates(inplace=True)\n",
    "X_test.drop_duplicates(inplace=True)"
   ]
  },
  {
   "cell_type": "code",
   "execution_count": 4,
   "metadata": {},
   "outputs": [],
   "source": [
    "# NaN in these three following columns means there were no trades => We fill these NaN with 0\n",
    "X_train['OTR'].fillna(0, inplace=True)\n",
    "X_train['OCR'].fillna(0, inplace=True)\n",
    "X_train['OMR'].fillna(0, inplace=True)\n",
    "X_test['OTR'].fillna(0, inplace=True)\n",
    "X_test['OCR'].fillna(0, inplace=True)\n",
    "X_test['OMR'].fillna(0, inplace=True)"
   ]
  },
  {
   "cell_type": "code",
   "execution_count": 5,
   "metadata": {},
   "outputs": [],
   "source": [
    "# We retrieve y_train in the right format\n",
    "Xy_train = pd.merge(X_train, y_train, on='Trader')\n",
    "y_train_formatted = Xy_train['type'].to_frame()"
   ]
  },
  {
   "cell_type": "code",
   "execution_count": 6,
   "metadata": {},
   "outputs": [],
   "source": [
    "# We retrieve the 'Traders' column to keep trace of them for later\n",
    "X_train_traders = X_train['Trader'].to_frame()\n",
    "X_test_traders = X_test['Trader'].to_frame()\n",
    "# Dropping the irrelevent columns\n",
    "X_train.drop(columns=['Share', 'Day', 'Trader'], inplace=True)\n",
    "X_test.drop(columns=['Share', 'Day', 'Trader'], inplace=True)"
   ]
  },
  {
   "cell_type": "code",
   "execution_count": 7,
   "metadata": {},
   "outputs": [],
   "source": [
    "# We replace the NaN of Time delta between two trades with their average\n",
    "for col in X_train.columns:\n",
    "        X_train[col] = X_train[col].fillna(np.mean(X_train[col]))\n",
    "        \n",
    "for col in X_test.columns:\n",
    "        X_test[col] = X_test[col].fillna(np.mean(X_test[col]))"
   ]
  },
  {
   "cell_type": "code",
   "execution_count": 8,
   "metadata": {},
   "outputs": [],
   "source": [
    "# Splitting the training set into train and test\n",
    "X_tr, X_te, y_tr, y_te = train_test_split(X_train, y_train_formatted, test_size=0.3, random_state=42)"
   ]
  },
  {
   "cell_type": "markdown",
   "metadata": {},
   "source": [
    "# Testing different models"
   ]
  },
  {
   "cell_type": "code",
   "execution_count": 9,
   "metadata": {},
   "outputs": [
    {
     "name": "stderr",
     "output_type": "stream",
     "text": [
      "<ipython-input-9-32574dd99bd7>:4: DataConversionWarning: A column-vector y was passed when a 1d array was expected. Please change the shape of y to (n_samples,), for example using ravel().\n",
      "  preds_rf = model_rf.fit(X_tr, y_tr).predict(X_te)\n"
     ]
    },
    {
     "name": "stdout",
     "output_type": "stream",
     "text": [
      "Random Forest accuracy 0.9738605119467142\n"
     ]
    }
   ],
   "source": [
    "from sklearn.ensemble import RandomForestClassifier\n",
    "\n",
    "model_rf = RandomForestClassifier()\n",
    "preds_rf = model_rf.fit(X_tr, y_tr).predict(X_te)\n",
    "print('Random Forest accuracy %s' % f1_score(preds_rf, y_te, average='micro'))"
   ]
  },
  {
   "cell_type": "code",
   "execution_count": 10,
   "metadata": {},
   "outputs": [
    {
     "name": "stderr",
     "output_type": "stream",
     "text": [
      "/opt/anaconda3/lib/python3.8/site-packages/sklearn/utils/validation.py:72: DataConversionWarning: A column-vector y was passed when a 1d array was expected. Please change the shape of y to (n_samples, ), for example using ravel().\n",
      "  return f(**kwargs)\n"
     ]
    },
    {
     "name": "stdout",
     "output_type": "stream",
     "text": [
      "LightGBM accuracy 0.9852457111877009\n"
     ]
    }
   ],
   "source": [
    "from lightgbm import LGBMClassifier\n",
    "\n",
    "model_lgbm = LGBMClassifier(boosting_type='dart', n_estimators=5000, learning_rate=0.1, max_depth=-1,\n",
    "                       num_leaves=16, subsample=0.9, colsample_bytree=0.9, subsample_freq=1,\n",
    "                       uniform_drop=True)\n",
    "preds_lgbm = model_lgbm.fit(X_tr, y_tr).predict(X_te)\n",
    "print('LightGBM accuracy %s' % f1_score(preds_lgbm, y_te, average='micro'))"
   ]
  },
  {
   "cell_type": "code",
   "execution_count": 11,
   "metadata": {},
   "outputs": [
    {
     "name": "stderr",
     "output_type": "stream",
     "text": [
      "/opt/anaconda3/lib/python3.8/site-packages/sklearn/utils/validation.py:72: DataConversionWarning: A column-vector y was passed when a 1d array was expected. Please change the shape of y to (n_samples, ), for example using ravel().\n",
      "  return f(**kwargs)\n"
     ]
    },
    {
     "name": "stdout",
     "output_type": "stream",
     "text": [
      "XGBoost accuracy 0.9840452309956239\n"
     ]
    }
   ],
   "source": [
    "from xgboost import XGBClassifier\n",
    "\n",
    "model_xgb = XGBClassifier(booster='dart', n_estimators=1000, learning_rate=0.1, max_depth=5, subsample=0.9,\n",
    "                     colsample_bytree = 0.9)\n",
    "preds_xgb = model_xgb.fit(X_tr, y_tr).predict(X_te)\n",
    "print('XGBoost accuracy %s' % f1_score(preds_xgb, y_te, average='micro'))"
   ]
  },
  {
   "cell_type": "markdown",
   "metadata": {},
   "source": [
    "# Trying a voting classifier"
   ]
  },
  {
   "cell_type": "code",
   "execution_count": 13,
   "metadata": {},
   "outputs": [
    {
     "name": "stderr",
     "output_type": "stream",
     "text": [
      "/opt/anaconda3/lib/python3.8/site-packages/sklearn/utils/validation.py:72: DataConversionWarning: A column-vector y was passed when a 1d array was expected. Please change the shape of y to (n_samples, ), for example using ravel().\n",
      "  return f(**kwargs)\n"
     ]
    },
    {
     "name": "stdout",
     "output_type": "stream",
     "text": [
      "Soft Voting accuracy 0.9846648336754057\n"
     ]
    }
   ],
   "source": [
    "from sklearn.ensemble import VotingClassifier\n",
    "\n",
    "model_vot = VotingClassifier(estimators=[('rf', model_rf), ('lgbm', model_lgbm),\n",
    "                                              ('xgb', model_xgb)], voting='soft')\n",
    "preds_vot = model_vot.fit(X_tr, y_tr).predict(X_te)\n",
    "print('Soft Voting accuracy %s' % f1_score(preds_vot, y_te, average='micro'))"
   ]
  },
  {
   "cell_type": "markdown",
   "metadata": {},
   "source": [
    "# Grid Search to improve the models"
   ]
  },
  {
   "cell_type": "code",
   "execution_count": null,
   "metadata": {},
   "outputs": [],
   "source": [
    "# TODO"
   ]
  },
  {
   "cell_type": "markdown",
   "metadata": {},
   "source": [
    "# Retrieving final results"
   ]
  },
  {
   "cell_type": "code",
   "execution_count": 14,
   "metadata": {},
   "outputs": [],
   "source": [
    "def predictions(traders, y_pred):\n",
    "\n",
    "    res = pd.DataFrame(traders)\n",
    "    res['pred'] = y_pred\n",
    "    res['count'] = 1\n",
    "\n",
    "    predictions = res.groupby(['Trader', 'pred']).count() / res.groupby(['Trader']).count()\n",
    "    predictions = predictions.unstack(level=1).drop(columns=['pred']).fillna(0)\n",
    "    predictions.columns = predictions.columns.get_level_values(1)\n",
    "    \n",
    "    return predictions"
   ]
  },
  {
   "cell_type": "code",
   "execution_count": 15,
   "metadata": {},
   "outputs": [],
   "source": [
    "def final_classification(predictions):\n",
    "\n",
    "    predictions.reset_index(inplace=True)\n",
    "    predictions['type'] = 'NON HFT'\n",
    "    \n",
    "    for i in range(len(predictions)):\n",
    "        if predictions.iloc[i]['HFT'] >= 0.85:\n",
    "            predictions.at[i, 'type'] = 'HFT'\n",
    "        elif predictions.iloc[i]['MIX'] > 0.5:\n",
    "            predictions.at[i, 'type'] = 'MIX'\n",
    "    predictions.drop(columns=['HFT','MIX','NON HFT'], inplace=True)\n",
    "    \n",
    "    return predictions"
   ]
  },
  {
   "cell_type": "code",
   "execution_count": null,
   "metadata": {},
   "outputs": [],
   "source": [
    "# # Choice of best model\n",
    "\n",
    "# final_model = ..."
   ]
  },
  {
   "cell_type": "code",
   "execution_count": null,
   "metadata": {},
   "outputs": [],
   "source": [
    "# y_pred = final_model.fit(X_train, y_train_formatted).predict(X_test)"
   ]
  },
  {
   "cell_type": "code",
   "execution_count": null,
   "metadata": {},
   "outputs": [],
   "source": [
    "# predictions = predictions(X_test_traders, y_pred)\n",
    "# predictions"
   ]
  },
  {
   "cell_type": "code",
   "execution_count": null,
   "metadata": {},
   "outputs": [],
   "source": [
    "# final_res = final_classification(predictions)\n",
    "# final_res"
   ]
  },
  {
   "cell_type": "code",
   "execution_count": null,
   "metadata": {},
   "outputs": [],
   "source": [
    "# title = '... .csv'\n",
    "# final_res.to_csv(title, index=False)"
   ]
  }
 ],
 "metadata": {
  "kernelspec": {
   "display_name": "Python 3",
   "language": "python",
   "name": "python3"
  },
  "language_info": {
   "codemirror_mode": {
    "name": "ipython",
    "version": 3
   },
   "file_extension": ".py",
   "mimetype": "text/x-python",
   "name": "python",
   "nbconvert_exporter": "python",
   "pygments_lexer": "ipython3",
   "version": "3.8.3"
  }
 },
 "nbformat": 4,
 "nbformat_minor": 4
}
