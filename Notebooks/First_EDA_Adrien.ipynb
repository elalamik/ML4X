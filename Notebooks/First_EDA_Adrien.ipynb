{
 "metadata": {
  "language_info": {
   "codemirror_mode": {
    "name": "ipython",
    "version": 3
   },
   "file_extension": ".py",
   "mimetype": "text/x-python",
   "name": "python",
   "nbconvert_exporter": "python",
   "pygments_lexer": "ipython3",
   "version": "3.8.5-final"
  },
  "orig_nbformat": 2,
  "kernelspec": {
   "name": "python3",
   "display_name": "Python 3.8.5 64-bit (conda)",
   "metadata": {
    "interpreter": {
     "hash": "2b7b01272bfb2ba80a69961ed192f412329076e2568cbef8be94a6f3bf7d392c"
    }
   }
  }
 },
 "nbformat": 4,
 "nbformat_minor": 2,
 "cells": [
  {
   "cell_type": "code",
   "execution_count": 11,
   "metadata": {},
   "outputs": [],
   "source": [
    "%matplotlib inline\n",
    "import pandas as pd\n",
    "from sklearn.ensemble import RandomForestClassifier\n",
    "from sklearn.model_selection import train_test_split\n",
    "import numpy as np\n",
    "import os\n",
    "import seaborn as sns\n",
    "import sys\n",
    "\n",
    "filepath_functions = os.path.join(os.path.abspath('..'), 'Python files')\n",
    "sys.path.insert(1, filepath_functions)\n",
    "\n",
    "import Adrien_cleaning\n"
   ]
  },
  {
   "cell_type": "code",
   "execution_count": 12,
   "metadata": {},
   "outputs": [],
   "source": [
    "filepath_X_train = os.path.join(os.path.abspath('..'), 'Files', 'AMF_train_X.csv')\n",
    "filepath_y_train = os.path.join(os.path.abspath('..'), 'Files', 'AMF_train_Y.csv')\n",
    "filepath_X_test = os.path.join(os.path.abspath('..'), 'Files', 'AMF_test_X.csv')\n",
    "\n",
    "\n",
    "X_train_original = pd.read_csv(filepath_X_train)\n",
    "y_train_original = pd.read_csv(filepath_y_train)\n",
    "X_test_original = pd.read_csv(filepath_X_test)\n",
    "\n",
    "X_train_original.set_index(\"Index\", drop=True, inplace=True)\n",
    "X_test_original.set_index(\"Index\", drop=True, inplace=True)"
   ]
  },
  {
   "cell_type": "code",
   "execution_count": 13,
   "metadata": {},
   "outputs": [
    {
     "output_type": "stream",
     "name": "stdout",
     "text": [
      "<class 'pandas.core.frame.DataFrame'>\nInt64Index: 105782 entries, 1 to 105782\nData columns (total 38 columns):\n #   Column                      Non-Null Count   Dtype  \n---  ------                      --------------   -----  \n 0   Share                       105782 non-null  object \n 1   Day                         105782 non-null  object \n 2   Trader                      105782 non-null  object \n 3   OTR                         104099 non-null  float64\n 4   OCR                         105782 non-null  float64\n 5   OMR                         58170 non-null   float64\n 6   min_time_two_events         105782 non-null  float64\n 7   mean_time_two_events        105782 non-null  float64\n 8   10_p_time_two_events        105782 non-null  float64\n 9   med_time_two_events         105782 non-null  float64\n 10  25_p_time_two_events        105782 non-null  float64\n 11  75_p_time_two_events        105782 non-null  float64\n 12  90_p_time_two_events        105782 non-null  float64\n 13  max_time_two_events         105782 non-null  float64\n 14  min_lifetime_cancel         105782 non-null  float64\n 15  mean_lifetime_cancel        105782 non-null  float64\n 16  10_p_lifetime_cancel        105782 non-null  float64\n 17  med_lifetime_cancel         105782 non-null  float64\n 18  25_p_lifetime_cancel        105782 non-null  float64\n 19  75_p_lifetime_cancel        105782 non-null  float64\n 20  90_p_lifetime_cancel        105782 non-null  float64\n 21  max_lifetime_cancel         105782 non-null  float64\n 22  NbTradeVenueMic             105782 non-null  int64  \n 23  MaxNbTradesBySecond         105782 non-null  int64  \n 24  MeanNbTradesBySecond        105782 non-null  float64\n 25  min_dt_TV1                  101547 non-null  float64\n 26  mean_dt_TV1                 101547 non-null  float64\n 27  med_dt_TV1                  101547 non-null  float64\n 28  min_dt_TV1_TV2              80606 non-null   float64\n 29  mean_dt_TV1_TV2             80606 non-null   float64\n 30  med_dt_TV1_TV2              80606 non-null   float64\n 31  min_dt_TV1_TV3              80527 non-null   float64\n 32  mean_dt_TV1_TV3             80527 non-null   float64\n 33  med_dt_TV1_TV3              80527 non-null   float64\n 34  min_dt_TV1_TV4              80634 non-null   float64\n 35  mean_dt_TV1_TV4             80634 non-null   float64\n 36  med_dt_TV1_TV4              80634 non-null   float64\n 37  NbSecondWithAtLeatOneTrade  105782 non-null  int64  \ndtypes: float64(32), int64(3), object(3)\nmemory usage: 31.5+ MB\nNone\n"
     ]
    },
    {
     "output_type": "execute_result",
     "data": {
      "text/plain": [
       "         Share      Day     Trader       OTR        OCR         OMR  \\\n",
       "Index                                                                 \n",
       "1       Isin_8  Date_24  Trader_10  2.272727   8.333333   12.500000   \n",
       "2      Isin_87  Date_29  Trader_10  1.696629  25.166667   21.571429   \n",
       "3      Isin_87  Date_23  Trader_10  1.482759  47.300000  118.250000   \n",
       "4      Isin_12  Date_11  Trader_10  1.705882  14.500000   29.000000   \n",
       "5      Isin_87   Date_9  Trader_10  1.517730  26.750000         NaN   \n",
       "\n",
       "       min_time_two_events  mean_time_two_events  10_p_time_two_events  \\\n",
       "Index                                                                    \n",
       "1                      0.0           5117.830300              0.000000   \n",
       "2                      0.0           1846.968401              0.000074   \n",
       "3                      0.0            686.300630              0.000071   \n",
       "4                      0.0           2174.335265              0.000000   \n",
       "5                      0.0            944.008551              0.000071   \n",
       "\n",
       "       med_time_two_events  ...  min_dt_TV1_TV2  mean_dt_TV1_TV2  \\\n",
       "Index                       ...                                    \n",
       "1               419.688500  ...             NaN              NaN   \n",
       "2                 0.003374  ...             NaN              NaN   \n",
       "3                 0.000599  ...             NaN              NaN   \n",
       "4                 6.152666  ...             NaN              NaN   \n",
       "5                 0.001364  ...             NaN              NaN   \n",
       "\n",
       "       med_dt_TV1_TV2  min_dt_TV1_TV3  mean_dt_TV1_TV3  med_dt_TV1_TV3  \\\n",
       "Index                                                                    \n",
       "1                 NaN             NaN              NaN             NaN   \n",
       "2                 NaN             NaN              NaN             NaN   \n",
       "3                 NaN             NaN              NaN             NaN   \n",
       "4                 NaN             NaN              NaN             NaN   \n",
       "5                 NaN             NaN              NaN             NaN   \n",
       "\n",
       "       min_dt_TV1_TV4  mean_dt_TV1_TV4  med_dt_TV1_TV4  \\\n",
       "Index                                                    \n",
       "1                 NaN              NaN             NaN   \n",
       "2                 NaN              NaN             NaN   \n",
       "3                 NaN              NaN             NaN   \n",
       "4                 NaN              NaN             NaN   \n",
       "5                 NaN              NaN             NaN   \n",
       "\n",
       "       NbSecondWithAtLeatOneTrade  \n",
       "Index                              \n",
       "1                               4  \n",
       "2                              15  \n",
       "3                              63  \n",
       "4                               4  \n",
       "5                              38  \n",
       "\n",
       "[5 rows x 38 columns]"
      ],
      "text/html": "<div>\n<style scoped>\n    .dataframe tbody tr th:only-of-type {\n        vertical-align: middle;\n    }\n\n    .dataframe tbody tr th {\n        vertical-align: top;\n    }\n\n    .dataframe thead th {\n        text-align: right;\n    }\n</style>\n<table border=\"1\" class=\"dataframe\">\n  <thead>\n    <tr style=\"text-align: right;\">\n      <th></th>\n      <th>Share</th>\n      <th>Day</th>\n      <th>Trader</th>\n      <th>OTR</th>\n      <th>OCR</th>\n      <th>OMR</th>\n      <th>min_time_two_events</th>\n      <th>mean_time_two_events</th>\n      <th>10_p_time_two_events</th>\n      <th>med_time_two_events</th>\n      <th>...</th>\n      <th>min_dt_TV1_TV2</th>\n      <th>mean_dt_TV1_TV2</th>\n      <th>med_dt_TV1_TV2</th>\n      <th>min_dt_TV1_TV3</th>\n      <th>mean_dt_TV1_TV3</th>\n      <th>med_dt_TV1_TV3</th>\n      <th>min_dt_TV1_TV4</th>\n      <th>mean_dt_TV1_TV4</th>\n      <th>med_dt_TV1_TV4</th>\n      <th>NbSecondWithAtLeatOneTrade</th>\n    </tr>\n    <tr>\n      <th>Index</th>\n      <th></th>\n      <th></th>\n      <th></th>\n      <th></th>\n      <th></th>\n      <th></th>\n      <th></th>\n      <th></th>\n      <th></th>\n      <th></th>\n      <th></th>\n      <th></th>\n      <th></th>\n      <th></th>\n      <th></th>\n      <th></th>\n      <th></th>\n      <th></th>\n      <th></th>\n      <th></th>\n      <th></th>\n    </tr>\n  </thead>\n  <tbody>\n    <tr>\n      <th>1</th>\n      <td>Isin_8</td>\n      <td>Date_24</td>\n      <td>Trader_10</td>\n      <td>2.272727</td>\n      <td>8.333333</td>\n      <td>12.500000</td>\n      <td>0.0</td>\n      <td>5117.830300</td>\n      <td>0.000000</td>\n      <td>419.688500</td>\n      <td>...</td>\n      <td>NaN</td>\n      <td>NaN</td>\n      <td>NaN</td>\n      <td>NaN</td>\n      <td>NaN</td>\n      <td>NaN</td>\n      <td>NaN</td>\n      <td>NaN</td>\n      <td>NaN</td>\n      <td>4</td>\n    </tr>\n    <tr>\n      <th>2</th>\n      <td>Isin_87</td>\n      <td>Date_29</td>\n      <td>Trader_10</td>\n      <td>1.696629</td>\n      <td>25.166667</td>\n      <td>21.571429</td>\n      <td>0.0</td>\n      <td>1846.968401</td>\n      <td>0.000074</td>\n      <td>0.003374</td>\n      <td>...</td>\n      <td>NaN</td>\n      <td>NaN</td>\n      <td>NaN</td>\n      <td>NaN</td>\n      <td>NaN</td>\n      <td>NaN</td>\n      <td>NaN</td>\n      <td>NaN</td>\n      <td>NaN</td>\n      <td>15</td>\n    </tr>\n    <tr>\n      <th>3</th>\n      <td>Isin_87</td>\n      <td>Date_23</td>\n      <td>Trader_10</td>\n      <td>1.482759</td>\n      <td>47.300000</td>\n      <td>118.250000</td>\n      <td>0.0</td>\n      <td>686.300630</td>\n      <td>0.000071</td>\n      <td>0.000599</td>\n      <td>...</td>\n      <td>NaN</td>\n      <td>NaN</td>\n      <td>NaN</td>\n      <td>NaN</td>\n      <td>NaN</td>\n      <td>NaN</td>\n      <td>NaN</td>\n      <td>NaN</td>\n      <td>NaN</td>\n      <td>63</td>\n    </tr>\n    <tr>\n      <th>4</th>\n      <td>Isin_12</td>\n      <td>Date_11</td>\n      <td>Trader_10</td>\n      <td>1.705882</td>\n      <td>14.500000</td>\n      <td>29.000000</td>\n      <td>0.0</td>\n      <td>2174.335265</td>\n      <td>0.000000</td>\n      <td>6.152666</td>\n      <td>...</td>\n      <td>NaN</td>\n      <td>NaN</td>\n      <td>NaN</td>\n      <td>NaN</td>\n      <td>NaN</td>\n      <td>NaN</td>\n      <td>NaN</td>\n      <td>NaN</td>\n      <td>NaN</td>\n      <td>4</td>\n    </tr>\n    <tr>\n      <th>5</th>\n      <td>Isin_87</td>\n      <td>Date_9</td>\n      <td>Trader_10</td>\n      <td>1.517730</td>\n      <td>26.750000</td>\n      <td>NaN</td>\n      <td>0.0</td>\n      <td>944.008551</td>\n      <td>0.000071</td>\n      <td>0.001364</td>\n      <td>...</td>\n      <td>NaN</td>\n      <td>NaN</td>\n      <td>NaN</td>\n      <td>NaN</td>\n      <td>NaN</td>\n      <td>NaN</td>\n      <td>NaN</td>\n      <td>NaN</td>\n      <td>NaN</td>\n      <td>38</td>\n    </tr>\n  </tbody>\n</table>\n<p>5 rows × 38 columns</p>\n</div>"
     },
     "metadata": {},
     "execution_count": 13
    }
   ],
   "source": [
    "# Looking at the data\n",
    "print(X_train_original.info())\n",
    "X_train_original.head()"
   ]
  },
  {
   "cell_type": "code",
   "execution_count": 7,
   "metadata": {},
   "outputs": [
    {
     "output_type": "stream",
     "name": "stdout",
     "text": [
      "Shape of X_train: (105782, 38) \n\nShape of y_train: (86, 2) \n\n# traders in the dataset = 86 \n\n"
     ]
    },
    {
     "output_type": "execute_result",
     "data": {
      "text/plain": [
       "       Trader     type\n",
       "0  Trader_285      MIX\n",
       "1  Trader_114  NON HFT\n",
       "2  Trader_110  NON HFT\n",
       "3   Trader_57  NON HFT\n",
       "4  Trader_128  NON HFT"
      ],
      "text/html": "<div>\n<style scoped>\n    .dataframe tbody tr th:only-of-type {\n        vertical-align: middle;\n    }\n\n    .dataframe tbody tr th {\n        vertical-align: top;\n    }\n\n    .dataframe thead th {\n        text-align: right;\n    }\n</style>\n<table border=\"1\" class=\"dataframe\">\n  <thead>\n    <tr style=\"text-align: right;\">\n      <th></th>\n      <th>Trader</th>\n      <th>type</th>\n    </tr>\n  </thead>\n  <tbody>\n    <tr>\n      <th>0</th>\n      <td>Trader_285</td>\n      <td>MIX</td>\n    </tr>\n    <tr>\n      <th>1</th>\n      <td>Trader_114</td>\n      <td>NON HFT</td>\n    </tr>\n    <tr>\n      <th>2</th>\n      <td>Trader_110</td>\n      <td>NON HFT</td>\n    </tr>\n    <tr>\n      <th>3</th>\n      <td>Trader_57</td>\n      <td>NON HFT</td>\n    </tr>\n    <tr>\n      <th>4</th>\n      <td>Trader_128</td>\n      <td>NON HFT</td>\n    </tr>\n  </tbody>\n</table>\n</div>"
     },
     "metadata": {},
     "execution_count": 7
    }
   ],
   "source": [
    "print(\"Shape of X_train:\", X_train_original.shape, '\\n')\n",
    "print(\"Shape of y_train:\", y_train_original.shape, '\\n')\n",
    "print(\"# traders in the dataset =\", len(X_train_original[\"Trader\"].unique()), '\\n')\n",
    "y_train_original.head()"
   ]
  },
  {
   "cell_type": "code",
   "execution_count": 11,
   "metadata": {},
   "outputs": [
    {
     "output_type": "stream",
     "name": "stdout",
     "text": [
      "type\nMIX        10178\nHFT         9414\nNON HFT      116\ndtype: int64 \n\ntype\nMIX        41305\nHFT        22536\nNON HFT    22233\ndtype: int64\n"
     ]
    }
   ],
   "source": [
    "# Merging X and y to create a full dataset matrix\n",
    "X_with_label = pd.merge(X_train_original, y_train_original, how='left', on=\"Trader\")\n",
    "\n",
    "# Looking at the duplicates and removing them\n",
    "X_with_label_dups = X_with_label[X_with_label.duplicated() == True]\n",
    "\n",
    "# Removing the dups\n",
    "X_with_label.drop_duplicates(inplace=True)\n",
    "X_test_original_no_dups = X_test_original.drop_duplicates()\n",
    "\n",
    "# Seeing the distribution of traders in the duplicates\n",
    "print(X_with_label_dups.value_counts(\"type\"), '\\n')\n",
    "print(X_with_label.value_counts(\"type\"))"
   ]
  },
  {
   "source": [
    "## Cleaning the dataset"
   ],
   "cell_type": "markdown",
   "metadata": {}
  },
  {
   "cell_type": "code",
   "execution_count": null,
   "metadata": {},
   "outputs": [],
   "source": [
    "# print(X_train[\"Share\"][0].find('_'))\n",
    "\n",
    "# Converting Day and Trader to categorical data\n",
    "# TODO one-hot encoding in pipeline\n",
    "X_with_label_clean = X_with_label.copy()\n",
    "X_with_label_clean[\"Share\"] = pd.to_numeric(X_with_label[\"Share\"].str[5::], downcast='integer')\n",
    "X_with_label_clean[\"Day\"] = pd.to_numeric(X_with_label[\"Day\"].str[5::], downcast='integer')\n",
    "X_with_label_clean.head()\n"
   ]
  },
  {
   "cell_type": "code",
   "execution_count": null,
   "metadata": {},
   "outputs": [],
   "source": [
    "X_with_label_clean.isna().sum()"
   ]
  },
  {
   "source": [
    "## Correcting the NAs"
   ],
   "cell_type": "markdown",
   "metadata": {}
  },
  {
   "cell_type": "code",
   "execution_count": null,
   "metadata": {},
   "outputs": [],
   "source": [
    "X_anonymized_clean[[\"OTR\", \"OMR\"]] = X_anonymized_clean[[\"OTR\", \"OMR\"]].fillna(value=0)"
   ]
  },
  {
   "source": [
    "### OTR, OCR et OMR"
   ],
   "cell_type": "markdown",
   "metadata": {}
  },
  {
   "cell_type": "code",
   "execution_count": null,
   "metadata": {},
   "outputs": [],
   "source": [
    "X_anonymized_clean[\"Total OR\"] = X_anonymized_clean[\"OTR\"] + X_anonymized_clean[\"OMR\"] + X_anonymized_clean[\"OCR\"]\n",
    "\n",
    "X_anonymized_clean[\"OTR_new\"] = X_anonymized_clean[\"OTR\"] / X_anonymized_clean[\"Total OR\"]\n",
    "X_anonymized_clean[\"OMR_new\"] = X_anonymized_clean[\"OMR\"] / X_anonymized_clean[\"Total OR\"]\n",
    "X_anonymized_clean[\"OCR_new\"] = X_anonymized_clean[\"OCR\"] / X_anonymized_clean[\"Total OR\"]\n",
    "\n",
    "\n",
    "X_anonymized_clean.head()"
   ]
  },
  {
   "cell_type": "code",
   "execution_count": null,
   "metadata": {},
   "outputs": [],
   "source": [
    "X_anonymized_clean.isna().sum()"
   ]
  },
  {
   "cell_type": "code",
   "execution_count": null,
   "metadata": {},
   "outputs": [],
   "source": []
  },
  {
   "cell_type": "code",
   "execution_count": null,
   "metadata": {},
   "outputs": [],
   "source": [
    "X_anonymized_clean.dropna(axis=\"columns\", inplace=True)\n",
    "X_anonymized_clean.head()"
   ]
  },
  {
   "cell_type": "code",
   "execution_count": null,
   "metadata": {},
   "outputs": [],
   "source": [
    "# Anonymizing X by getting rid of Trader and Type\n",
    "\n",
    "y_train_reshaped = X_with_label['type']\n",
    "X_anonymized = X_with_label.drop(columns=['Trader', 'type'])\n",
    "X_anonymized.head()"
   ]
  },
  {
   "cell_type": "code",
   "execution_count": null,
   "metadata": {},
   "outputs": [],
   "source": [
    "X_train, X_valid, y_train, y_valid = train_test_split(\n",
    "    X_anonymized_clean, y_train_reshaped, train_size=0.7, random_state=15)"
   ]
  },
  {
   "source": [
    "## Classifier & classification for each line"
   ],
   "cell_type": "markdown",
   "metadata": {}
  },
  {
   "cell_type": "code",
   "execution_count": null,
   "metadata": {},
   "outputs": [],
   "source": [
    "classifier = RandomForestClassifier()\n",
    "classifier.fit(X_train, y_train)"
   ]
  },
  {
   "cell_type": "code",
   "execution_count": null,
   "metadata": {},
   "outputs": [],
   "source": [
    "print('{:0.2%}'.format(classifier.score(X_valid, y_valid)))"
   ]
  },
  {
   "source": [
    "Very good accuracy simply on the lines"
   ],
   "cell_type": "markdown",
   "metadata": {}
  },
  {
   "source": [
    "## Building the prediction at csv format"
   ],
   "cell_type": "markdown",
   "metadata": {}
  },
  {
   "cell_type": "code",
   "execution_count": null,
   "metadata": {},
   "outputs": [],
   "source": [
    "X_test = X_test_original.copy()\n",
    "\n",
    "X_test.drop(columns='Trader', inplace=True)\n",
    "X_test[\"Share\"] = pd.to_numeric(X_test[\"Share\"].str[5::], downcast='integer')\n",
    "X_test[\"Day\"] = pd.to_numeric(X_test[\"Day\"].str[5::], downcast='integer')\n",
    "X_test.dropna(axis=\"columns\", inplace=True)\n",
    "\n",
    "\n",
    "y_test = classifier.predict(X_test)"
   ]
  },
  {
   "cell_type": "code",
   "execution_count": null,
   "metadata": {},
   "outputs": [],
   "source": [
    "X_test_pred = X_test_original.copy()\n",
    "X_test_pred['pred'] = y_test\n",
    "X_test_pred.head()"
   ]
  },
  {
   "cell_type": "code",
   "execution_count": null,
   "metadata": {},
   "outputs": [],
   "source": [
    "# hft_preds = X_test_pred[X_test_pred[\"pred\"] == 'HFT'].groupby(by='Trader').count().unstack(fill_value=0)\n",
    "# mix_preds = X_test_pred[X_test_pred[\"pred\"] == 'MIX'].groupby(by='Trader').count()[\"Index\"]\n",
    "# non_HFT_preds = X_test_pred[X_test_pred[\"pred\"] == 'NON HFT'].groupby(by='Trader').count()[\"Index\"]\n",
    "# traders_list = [X_test_pred['Trader'].unique()]\n",
    "\n",
    "# midx = pd.MultiIndex.from_product(traders_list, names=['Trader'])\n",
    "# Because group by does not take into account the count 0s, we need to add them now\n",
    "\n",
    "# hft_preds = hft_preds.reindex(midx, fill_value=0)"
   ]
  },
  {
   "cell_type": "code",
   "execution_count": null,
   "metadata": {},
   "outputs": [],
   "source": [
    "traders_list = np.unique(X_test_pred[\"Trader\"])\n",
    "preds_list_AMF_calc = []\n",
    "non_hft_percent = []\n",
    "hft_percent = []\n",
    "mix_percent = []\n",
    "\n",
    "\n",
    "for trader in traders_list:\n",
    "    df_reduced = X_test_pred[X_test_pred['Trader'] == trader][\"pred\"]\n",
    "    counts = df_reduced.value_counts()\n",
    "\n",
    "    # Non HFT\n",
    "    try:\n",
    "        non_hft_count = counts[\"NON HFT\"]\n",
    "    except:\n",
    "        non_hft_count = 0\n",
    "\n",
    "    # HFT\n",
    "    try:\n",
    "        hft_count = counts[\"HFT\"]\n",
    "    except:\n",
    "        hft_count = 0\n",
    "\n",
    "    # MIX\n",
    "    try:\n",
    "        mix_count = counts[\"MIX\"]\n",
    "    except:\n",
    "        mix_count = 0\n",
    "\n",
    "    total_count = hft_count + mix_count + non_hft_count\n",
    "    hft_percent.append(hft_count / total_count)\n",
    "    mix_percent.append(mix_count / total_count)\n",
    "    non_hft_percent.append(non_hft_count / total_count)\n",
    "\n",
    "    if hft_count / total_count >= 0.85:\n",
    "        pred = \"HFT\"\n",
    "    elif mix_count / total_count >= 0.5:\n",
    "        pred = \"MIX\"\n",
    "    else:\n",
    "        pred = \"NON HFT\"\n",
    "\n",
    "    preds_list_AMF_calc.append(pred)"
   ]
  },
  {
   "cell_type": "code",
   "execution_count": null,
   "metadata": {},
   "outputs": [],
   "source": [
    "output_table = {\n",
    "    \"Predictions\": preds_list_AMF_calc, \n",
    "    \"percent days HFT\": hft_percent,\n",
    "    \"percent days mix\": mix_percent,\n",
    "    \"percent days non hft\": non_hft_percent,\n",
    "    \"Traders\": traders_list}\n",
    "output_viz_table = pd.DataFrame(output_table).set_index(\"Traders\")\n",
    "output_viz_table.to_csv('First output visualising.csv')"
   ]
  },
  {
   "cell_type": "code",
   "execution_count": null,
   "metadata": {},
   "outputs": [],
   "source": [
    "data = {\"Predictions\": preds_list_AMF_calc, \"Traders\": traders_list}\n",
    "\n"
   ]
  },
  {
   "cell_type": "code",
   "execution_count": null,
   "metadata": {},
   "outputs": [],
   "source": []
  }
 ]
}