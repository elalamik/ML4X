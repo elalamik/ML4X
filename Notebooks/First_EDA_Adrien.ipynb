{
 "metadata": {
  "language_info": {
   "codemirror_mode": {
    "name": "ipython",
    "version": 3
   },
   "file_extension": ".py",
   "mimetype": "text/x-python",
   "name": "python",
   "nbconvert_exporter": "python",
   "pygments_lexer": "ipython3",
   "version": "3.8.5-final"
  },
  "orig_nbformat": 2,
  "kernelspec": {
   "name": "python3",
   "display_name": "Python 3.8.5 64-bit (conda)",
   "metadata": {
    "interpreter": {
     "hash": "2b7b01272bfb2ba80a69961ed192f412329076e2568cbef8be94a6f3bf7d392c"
    }
   }
  }
 },
 "nbformat": 4,
 "nbformat_minor": 2,
 "cells": [
  {
   "cell_type": "code",
   "execution_count": 6,
   "metadata": {},
   "outputs": [],
   "source": [
    "%matplotlib inline\n",
    "import pandas as pd\n",
    "# from sklearn import \n",
    "import numpy as np\n",
    "import os"
   ]
  },
  {
   "cell_type": "code",
   "execution_count": 7,
   "metadata": {},
   "outputs": [],
   "source": [
    "filepath_X_train = os.path.join(os.path.abspath('..'), 'Files', 'AMF_train_X.csv')\n",
    "filepath_y_train = os.path.join(os.path.abspath('..'), 'Files', 'AMF_train_Y.csv')\n",
    "filepath_X_test = os.path.join(os.path.abspath('..'), 'Files', 'AMF_train_X.csv')\n",
    "\n",
    "\n",
    "X_train = pd.read_csv(filepath_X_train)\n",
    "y_train = pd.read_csv(filepath_y_train)\n",
    "X_test = pd.read_csv(filepath_X_test)"
   ]
  },
  {
   "cell_type": "code",
   "execution_count": null,
   "metadata": {},
   "outputs": [],
   "source": []
  }
 ]
}