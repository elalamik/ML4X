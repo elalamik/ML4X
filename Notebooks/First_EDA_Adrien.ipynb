{
 "metadata": {
  "language_info": {
   "codemirror_mode": {
    "name": "ipython",
    "version": 3
   },
   "file_extension": ".py",
   "mimetype": "text/x-python",
   "name": "python",
   "nbconvert_exporter": "python",
   "pygments_lexer": "ipython3",
   "version": "3.8.5-final"
  },
  "orig_nbformat": 2,
  "kernelspec": {
   "name": "python3",
   "display_name": "Python 3.8.5 64-bit (conda)",
   "metadata": {
    "interpreter": {
     "hash": "2b7b01272bfb2ba80a69961ed192f412329076e2568cbef8be94a6f3bf7d392c"
    }
   }
  }
 },
 "nbformat": 4,
 "nbformat_minor": 2,
 "cells": [
  {
   "cell_type": "code",
   "execution_count": 1,
   "metadata": {},
   "outputs": [],
   "source": [
    "%matplotlib inline\n",
    "import pandas as pd\n",
    "from sklearn.ensemble import RandomForestClassifier\n",
    "from sklearn.model_selection import train_test_split\n",
    "import numpy as np\n",
    "import os"
   ]
  },
  {
   "cell_type": "code",
   "execution_count": 2,
   "metadata": {},
   "outputs": [],
   "source": [
    "filepath_X_train = os.path.join(os.path.abspath('..'), 'Files', 'AMF_train_X.csv')\n",
    "filepath_y_train = os.path.join(os.path.abspath('..'), 'Files', 'AMF_train_Y.csv')\n",
    "filepath_X_test = os.path.join(os.path.abspath('..'), 'Files', 'AMF_train_X.csv')\n",
    "\n",
    "\n",
    "X_train_original = pd.read_csv(filepath_X_train)\n",
    "y_train_original = pd.read_csv(filepath_y_train)\n",
    "X_test_original = pd.read_csv(filepath_X_test)"
   ]
  },
  {
   "cell_type": "code",
   "execution_count": 3,
   "metadata": {},
   "outputs": [
    {
     "output_type": "stream",
     "name": "stdout",
     "text": [
      "<class 'pandas.core.frame.DataFrame'>\nRangeIndex: 105782 entries, 0 to 105781\nData columns (total 39 columns):\n #   Column                      Non-Null Count   Dtype  \n---  ------                      --------------   -----  \n 0   Index                       105782 non-null  int64  \n 1   Share                       105782 non-null  object \n 2   Day                         105782 non-null  object \n 3   Trader                      105782 non-null  object \n 4   OTR                         104099 non-null  float64\n 5   OCR                         105782 non-null  float64\n 6   OMR                         58170 non-null   float64\n 7   min_time_two_events         105782 non-null  float64\n 8   mean_time_two_events        105782 non-null  float64\n 9   10_p_time_two_events        105782 non-null  float64\n 10  med_time_two_events         105782 non-null  float64\n 11  25_p_time_two_events        105782 non-null  float64\n 12  75_p_time_two_events        105782 non-null  float64\n 13  90_p_time_two_events        105782 non-null  float64\n 14  max_time_two_events         105782 non-null  float64\n 15  min_lifetime_cancel         105782 non-null  float64\n 16  mean_lifetime_cancel        105782 non-null  float64\n 17  10_p_lifetime_cancel        105782 non-null  float64\n 18  med_lifetime_cancel         105782 non-null  float64\n 19  25_p_lifetime_cancel        105782 non-null  float64\n 20  75_p_lifetime_cancel        105782 non-null  float64\n 21  90_p_lifetime_cancel        105782 non-null  float64\n 22  max_lifetime_cancel         105782 non-null  float64\n 23  NbTradeVenueMic             105782 non-null  int64  \n 24  MaxNbTradesBySecond         105782 non-null  int64  \n 25  MeanNbTradesBySecond        105782 non-null  float64\n 26  min_dt_TV1                  101547 non-null  float64\n 27  mean_dt_TV1                 101547 non-null  float64\n 28  med_dt_TV1                  101547 non-null  float64\n 29  min_dt_TV1_TV2              80606 non-null   float64\n 30  mean_dt_TV1_TV2             80606 non-null   float64\n 31  med_dt_TV1_TV2              80606 non-null   float64\n 32  min_dt_TV1_TV3              80527 non-null   float64\n 33  mean_dt_TV1_TV3             80527 non-null   float64\n 34  med_dt_TV1_TV3              80527 non-null   float64\n 35  min_dt_TV1_TV4              80634 non-null   float64\n 36  mean_dt_TV1_TV4             80634 non-null   float64\n 37  med_dt_TV1_TV4              80634 non-null   float64\n 38  NbSecondWithAtLeatOneTrade  105782 non-null  int64  \ndtypes: float64(32), int64(4), object(3)\nmemory usage: 31.5+ MB\n"
     ]
    }
   ],
   "source": [
    "# Looking at the data\n",
    "X_train_original.head()\n",
    "X_train_original.isna().sum()\n",
    "X_train_original.info()"
   ]
  },
  {
   "cell_type": "code",
   "execution_count": 4,
   "metadata": {},
   "outputs": [
    {
     "output_type": "stream",
     "name": "stdout",
     "text": [
      "(105782, 39)\n(86, 2)\n86\n"
     ]
    },
    {
     "output_type": "execute_result",
     "data": {
      "text/plain": [
       "       Trader     type\n",
       "0  Trader_285      MIX\n",
       "1  Trader_114  NON HFT\n",
       "2  Trader_110  NON HFT\n",
       "3   Trader_57  NON HFT\n",
       "4  Trader_128  NON HFT"
      ],
      "text/html": "<div>\n<style scoped>\n    .dataframe tbody tr th:only-of-type {\n        vertical-align: middle;\n    }\n\n    .dataframe tbody tr th {\n        vertical-align: top;\n    }\n\n    .dataframe thead th {\n        text-align: right;\n    }\n</style>\n<table border=\"1\" class=\"dataframe\">\n  <thead>\n    <tr style=\"text-align: right;\">\n      <th></th>\n      <th>Trader</th>\n      <th>type</th>\n    </tr>\n  </thead>\n  <tbody>\n    <tr>\n      <th>0</th>\n      <td>Trader_285</td>\n      <td>MIX</td>\n    </tr>\n    <tr>\n      <th>1</th>\n      <td>Trader_114</td>\n      <td>NON HFT</td>\n    </tr>\n    <tr>\n      <th>2</th>\n      <td>Trader_110</td>\n      <td>NON HFT</td>\n    </tr>\n    <tr>\n      <th>3</th>\n      <td>Trader_57</td>\n      <td>NON HFT</td>\n    </tr>\n    <tr>\n      <th>4</th>\n      <td>Trader_128</td>\n      <td>NON HFT</td>\n    </tr>\n  </tbody>\n</table>\n</div>"
     },
     "metadata": {},
     "execution_count": 4
    }
   ],
   "source": [
    "print(X_train_original.shape)\n",
    "print(y_train_original.shape)\n",
    "print(len(X_train_original[\"Trader\"].unique()))\n",
    "\n",
    "y_train_original.head()"
   ]
  },
  {
   "cell_type": "code",
   "execution_count": 5,
   "metadata": {},
   "outputs": [],
   "source": [
    "X_with_label = pd.merge(X_train_original, y_train_original, how='left', on=\"Trader\")"
   ]
  },
  {
   "cell_type": "code",
   "execution_count": 6,
   "metadata": {},
   "outputs": [
    {
     "output_type": "execute_result",
     "data": {
      "text/plain": [
       "   Index    Share      Day       OTR        OCR         OMR  \\\n",
       "0      1   Isin_8  Date_24  2.272727   8.333333   12.500000   \n",
       "1      2  Isin_87  Date_29  1.696629  25.166667   21.571429   \n",
       "2      3  Isin_87  Date_23  1.482759  47.300000  118.250000   \n",
       "3      4  Isin_12  Date_11  1.705882  14.500000   29.000000   \n",
       "4      5  Isin_87   Date_9  1.517730  26.750000         NaN   \n",
       "\n",
       "   min_time_two_events  mean_time_two_events  10_p_time_two_events  \\\n",
       "0                  0.0           5117.830300              0.000000   \n",
       "1                  0.0           1846.968401              0.000074   \n",
       "2                  0.0            686.300630              0.000071   \n",
       "3                  0.0           2174.335265              0.000000   \n",
       "4                  0.0            944.008551              0.000071   \n",
       "\n",
       "   med_time_two_events  ...  min_dt_TV1_TV2  mean_dt_TV1_TV2  med_dt_TV1_TV2  \\\n",
       "0           419.688500  ...             NaN              NaN             NaN   \n",
       "1             0.003374  ...             NaN              NaN             NaN   \n",
       "2             0.000599  ...             NaN              NaN             NaN   \n",
       "3             6.152666  ...             NaN              NaN             NaN   \n",
       "4             0.001364  ...             NaN              NaN             NaN   \n",
       "\n",
       "   min_dt_TV1_TV3  mean_dt_TV1_TV3  med_dt_TV1_TV3  min_dt_TV1_TV4  \\\n",
       "0             NaN              NaN             NaN             NaN   \n",
       "1             NaN              NaN             NaN             NaN   \n",
       "2             NaN              NaN             NaN             NaN   \n",
       "3             NaN              NaN             NaN             NaN   \n",
       "4             NaN              NaN             NaN             NaN   \n",
       "\n",
       "   mean_dt_TV1_TV4  med_dt_TV1_TV4  NbSecondWithAtLeatOneTrade  \n",
       "0              NaN             NaN                           4  \n",
       "1              NaN             NaN                          15  \n",
       "2              NaN             NaN                          63  \n",
       "3              NaN             NaN                           4  \n",
       "4              NaN             NaN                          38  \n",
       "\n",
       "[5 rows x 38 columns]"
      ],
      "text/html": "<div>\n<style scoped>\n    .dataframe tbody tr th:only-of-type {\n        vertical-align: middle;\n    }\n\n    .dataframe tbody tr th {\n        vertical-align: top;\n    }\n\n    .dataframe thead th {\n        text-align: right;\n    }\n</style>\n<table border=\"1\" class=\"dataframe\">\n  <thead>\n    <tr style=\"text-align: right;\">\n      <th></th>\n      <th>Index</th>\n      <th>Share</th>\n      <th>Day</th>\n      <th>OTR</th>\n      <th>OCR</th>\n      <th>OMR</th>\n      <th>min_time_two_events</th>\n      <th>mean_time_two_events</th>\n      <th>10_p_time_two_events</th>\n      <th>med_time_two_events</th>\n      <th>...</th>\n      <th>min_dt_TV1_TV2</th>\n      <th>mean_dt_TV1_TV2</th>\n      <th>med_dt_TV1_TV2</th>\n      <th>min_dt_TV1_TV3</th>\n      <th>mean_dt_TV1_TV3</th>\n      <th>med_dt_TV1_TV3</th>\n      <th>min_dt_TV1_TV4</th>\n      <th>mean_dt_TV1_TV4</th>\n      <th>med_dt_TV1_TV4</th>\n      <th>NbSecondWithAtLeatOneTrade</th>\n    </tr>\n  </thead>\n  <tbody>\n    <tr>\n      <th>0</th>\n      <td>1</td>\n      <td>Isin_8</td>\n      <td>Date_24</td>\n      <td>2.272727</td>\n      <td>8.333333</td>\n      <td>12.500000</td>\n      <td>0.0</td>\n      <td>5117.830300</td>\n      <td>0.000000</td>\n      <td>419.688500</td>\n      <td>...</td>\n      <td>NaN</td>\n      <td>NaN</td>\n      <td>NaN</td>\n      <td>NaN</td>\n      <td>NaN</td>\n      <td>NaN</td>\n      <td>NaN</td>\n      <td>NaN</td>\n      <td>NaN</td>\n      <td>4</td>\n    </tr>\n    <tr>\n      <th>1</th>\n      <td>2</td>\n      <td>Isin_87</td>\n      <td>Date_29</td>\n      <td>1.696629</td>\n      <td>25.166667</td>\n      <td>21.571429</td>\n      <td>0.0</td>\n      <td>1846.968401</td>\n      <td>0.000074</td>\n      <td>0.003374</td>\n      <td>...</td>\n      <td>NaN</td>\n      <td>NaN</td>\n      <td>NaN</td>\n      <td>NaN</td>\n      <td>NaN</td>\n      <td>NaN</td>\n      <td>NaN</td>\n      <td>NaN</td>\n      <td>NaN</td>\n      <td>15</td>\n    </tr>\n    <tr>\n      <th>2</th>\n      <td>3</td>\n      <td>Isin_87</td>\n      <td>Date_23</td>\n      <td>1.482759</td>\n      <td>47.300000</td>\n      <td>118.250000</td>\n      <td>0.0</td>\n      <td>686.300630</td>\n      <td>0.000071</td>\n      <td>0.000599</td>\n      <td>...</td>\n      <td>NaN</td>\n      <td>NaN</td>\n      <td>NaN</td>\n      <td>NaN</td>\n      <td>NaN</td>\n      <td>NaN</td>\n      <td>NaN</td>\n      <td>NaN</td>\n      <td>NaN</td>\n      <td>63</td>\n    </tr>\n    <tr>\n      <th>3</th>\n      <td>4</td>\n      <td>Isin_12</td>\n      <td>Date_11</td>\n      <td>1.705882</td>\n      <td>14.500000</td>\n      <td>29.000000</td>\n      <td>0.0</td>\n      <td>2174.335265</td>\n      <td>0.000000</td>\n      <td>6.152666</td>\n      <td>...</td>\n      <td>NaN</td>\n      <td>NaN</td>\n      <td>NaN</td>\n      <td>NaN</td>\n      <td>NaN</td>\n      <td>NaN</td>\n      <td>NaN</td>\n      <td>NaN</td>\n      <td>NaN</td>\n      <td>4</td>\n    </tr>\n    <tr>\n      <th>4</th>\n      <td>5</td>\n      <td>Isin_87</td>\n      <td>Date_9</td>\n      <td>1.517730</td>\n      <td>26.750000</td>\n      <td>NaN</td>\n      <td>0.0</td>\n      <td>944.008551</td>\n      <td>0.000071</td>\n      <td>0.001364</td>\n      <td>...</td>\n      <td>NaN</td>\n      <td>NaN</td>\n      <td>NaN</td>\n      <td>NaN</td>\n      <td>NaN</td>\n      <td>NaN</td>\n      <td>NaN</td>\n      <td>NaN</td>\n      <td>NaN</td>\n      <td>38</td>\n    </tr>\n  </tbody>\n</table>\n<p>5 rows × 38 columns</p>\n</div>"
     },
     "metadata": {},
     "execution_count": 6
    }
   ],
   "source": [
    "y_train_reshaped = X_with_label['type']\n",
    "X_anonymized = X_with_label.drop(columns=['Trader', 'type'])\n",
    "X_anonymized.head()"
   ]
  },
  {
   "source": [
    "## Cleaning the dataset"
   ],
   "cell_type": "markdown",
   "metadata": {}
  },
  {
   "cell_type": "code",
   "execution_count": 7,
   "metadata": {},
   "outputs": [
    {
     "output_type": "execute_result",
     "data": {
      "text/plain": [
       "   Index  Share  Day       OTR        OCR         OMR  min_time_two_events  \\\n",
       "0      1      8   24  2.272727   8.333333   12.500000                  0.0   \n",
       "1      2     87   29  1.696629  25.166667   21.571429                  0.0   \n",
       "2      3     87   23  1.482759  47.300000  118.250000                  0.0   \n",
       "3      4     12   11  1.705882  14.500000   29.000000                  0.0   \n",
       "4      5     87    9  1.517730  26.750000         NaN                  0.0   \n",
       "\n",
       "   mean_time_two_events  10_p_time_two_events  med_time_two_events  ...  \\\n",
       "0           5117.830300              0.000000           419.688500  ...   \n",
       "1           1846.968401              0.000074             0.003374  ...   \n",
       "2            686.300630              0.000071             0.000599  ...   \n",
       "3           2174.335265              0.000000             6.152666  ...   \n",
       "4            944.008551              0.000071             0.001364  ...   \n",
       "\n",
       "   min_dt_TV1_TV2  mean_dt_TV1_TV2  med_dt_TV1_TV2  min_dt_TV1_TV3  \\\n",
       "0             NaN              NaN             NaN             NaN   \n",
       "1             NaN              NaN             NaN             NaN   \n",
       "2             NaN              NaN             NaN             NaN   \n",
       "3             NaN              NaN             NaN             NaN   \n",
       "4             NaN              NaN             NaN             NaN   \n",
       "\n",
       "   mean_dt_TV1_TV3  med_dt_TV1_TV3  min_dt_TV1_TV4  mean_dt_TV1_TV4  \\\n",
       "0              NaN             NaN             NaN              NaN   \n",
       "1              NaN             NaN             NaN              NaN   \n",
       "2              NaN             NaN             NaN              NaN   \n",
       "3              NaN             NaN             NaN              NaN   \n",
       "4              NaN             NaN             NaN              NaN   \n",
       "\n",
       "   med_dt_TV1_TV4  NbSecondWithAtLeatOneTrade  \n",
       "0             NaN                           4  \n",
       "1             NaN                          15  \n",
       "2             NaN                          63  \n",
       "3             NaN                           4  \n",
       "4             NaN                          38  \n",
       "\n",
       "[5 rows x 38 columns]"
      ],
      "text/html": "<div>\n<style scoped>\n    .dataframe tbody tr th:only-of-type {\n        vertical-align: middle;\n    }\n\n    .dataframe tbody tr th {\n        vertical-align: top;\n    }\n\n    .dataframe thead th {\n        text-align: right;\n    }\n</style>\n<table border=\"1\" class=\"dataframe\">\n  <thead>\n    <tr style=\"text-align: right;\">\n      <th></th>\n      <th>Index</th>\n      <th>Share</th>\n      <th>Day</th>\n      <th>OTR</th>\n      <th>OCR</th>\n      <th>OMR</th>\n      <th>min_time_two_events</th>\n      <th>mean_time_two_events</th>\n      <th>10_p_time_two_events</th>\n      <th>med_time_two_events</th>\n      <th>...</th>\n      <th>min_dt_TV1_TV2</th>\n      <th>mean_dt_TV1_TV2</th>\n      <th>med_dt_TV1_TV2</th>\n      <th>min_dt_TV1_TV3</th>\n      <th>mean_dt_TV1_TV3</th>\n      <th>med_dt_TV1_TV3</th>\n      <th>min_dt_TV1_TV4</th>\n      <th>mean_dt_TV1_TV4</th>\n      <th>med_dt_TV1_TV4</th>\n      <th>NbSecondWithAtLeatOneTrade</th>\n    </tr>\n  </thead>\n  <tbody>\n    <tr>\n      <th>0</th>\n      <td>1</td>\n      <td>8</td>\n      <td>24</td>\n      <td>2.272727</td>\n      <td>8.333333</td>\n      <td>12.500000</td>\n      <td>0.0</td>\n      <td>5117.830300</td>\n      <td>0.000000</td>\n      <td>419.688500</td>\n      <td>...</td>\n      <td>NaN</td>\n      <td>NaN</td>\n      <td>NaN</td>\n      <td>NaN</td>\n      <td>NaN</td>\n      <td>NaN</td>\n      <td>NaN</td>\n      <td>NaN</td>\n      <td>NaN</td>\n      <td>4</td>\n    </tr>\n    <tr>\n      <th>1</th>\n      <td>2</td>\n      <td>87</td>\n      <td>29</td>\n      <td>1.696629</td>\n      <td>25.166667</td>\n      <td>21.571429</td>\n      <td>0.0</td>\n      <td>1846.968401</td>\n      <td>0.000074</td>\n      <td>0.003374</td>\n      <td>...</td>\n      <td>NaN</td>\n      <td>NaN</td>\n      <td>NaN</td>\n      <td>NaN</td>\n      <td>NaN</td>\n      <td>NaN</td>\n      <td>NaN</td>\n      <td>NaN</td>\n      <td>NaN</td>\n      <td>15</td>\n    </tr>\n    <tr>\n      <th>2</th>\n      <td>3</td>\n      <td>87</td>\n      <td>23</td>\n      <td>1.482759</td>\n      <td>47.300000</td>\n      <td>118.250000</td>\n      <td>0.0</td>\n      <td>686.300630</td>\n      <td>0.000071</td>\n      <td>0.000599</td>\n      <td>...</td>\n      <td>NaN</td>\n      <td>NaN</td>\n      <td>NaN</td>\n      <td>NaN</td>\n      <td>NaN</td>\n      <td>NaN</td>\n      <td>NaN</td>\n      <td>NaN</td>\n      <td>NaN</td>\n      <td>63</td>\n    </tr>\n    <tr>\n      <th>3</th>\n      <td>4</td>\n      <td>12</td>\n      <td>11</td>\n      <td>1.705882</td>\n      <td>14.500000</td>\n      <td>29.000000</td>\n      <td>0.0</td>\n      <td>2174.335265</td>\n      <td>0.000000</td>\n      <td>6.152666</td>\n      <td>...</td>\n      <td>NaN</td>\n      <td>NaN</td>\n      <td>NaN</td>\n      <td>NaN</td>\n      <td>NaN</td>\n      <td>NaN</td>\n      <td>NaN</td>\n      <td>NaN</td>\n      <td>NaN</td>\n      <td>4</td>\n    </tr>\n    <tr>\n      <th>4</th>\n      <td>5</td>\n      <td>87</td>\n      <td>9</td>\n      <td>1.517730</td>\n      <td>26.750000</td>\n      <td>NaN</td>\n      <td>0.0</td>\n      <td>944.008551</td>\n      <td>0.000071</td>\n      <td>0.001364</td>\n      <td>...</td>\n      <td>NaN</td>\n      <td>NaN</td>\n      <td>NaN</td>\n      <td>NaN</td>\n      <td>NaN</td>\n      <td>NaN</td>\n      <td>NaN</td>\n      <td>NaN</td>\n      <td>NaN</td>\n      <td>38</td>\n    </tr>\n  </tbody>\n</table>\n<p>5 rows × 38 columns</p>\n</div>"
     },
     "metadata": {},
     "execution_count": 7
    }
   ],
   "source": [
    "# print(X_train[\"Share\"][0].find('_'))\n",
    "\n",
    "X_anonymized_clean = X_anonymized.copy()\n",
    "X_anonymized_clean[\"Share\"] = pd.to_numeric(X_anonymized[\"Share\"].str[5::], downcast='integer')\n",
    "X_anonymized_clean[\"Day\"] = pd.to_numeric(X_anonymized[\"Day\"].str[5::], downcast='integer')\n",
    "\n",
    "X_anonymized_clean.head()\n"
   ]
  },
  {
   "cell_type": "code",
   "execution_count": 8,
   "metadata": {},
   "outputs": [
    {
     "output_type": "execute_result",
     "data": {
      "text/plain": [
       "Index                             0\n",
       "Share                             0\n",
       "Day                               0\n",
       "OTR                            1683\n",
       "OCR                               0\n",
       "OMR                           47612\n",
       "min_time_two_events               0\n",
       "mean_time_two_events              0\n",
       "10_p_time_two_events              0\n",
       "med_time_two_events               0\n",
       "25_p_time_two_events              0\n",
       "75_p_time_two_events              0\n",
       "90_p_time_two_events              0\n",
       "max_time_two_events               0\n",
       "min_lifetime_cancel               0\n",
       "mean_lifetime_cancel              0\n",
       "10_p_lifetime_cancel              0\n",
       "med_lifetime_cancel               0\n",
       "25_p_lifetime_cancel              0\n",
       "75_p_lifetime_cancel              0\n",
       "90_p_lifetime_cancel              0\n",
       "max_lifetime_cancel               0\n",
       "NbTradeVenueMic                   0\n",
       "MaxNbTradesBySecond               0\n",
       "MeanNbTradesBySecond              0\n",
       "min_dt_TV1                     4235\n",
       "mean_dt_TV1                    4235\n",
       "med_dt_TV1                     4235\n",
       "min_dt_TV1_TV2                25176\n",
       "mean_dt_TV1_TV2               25176\n",
       "med_dt_TV1_TV2                25176\n",
       "min_dt_TV1_TV3                25255\n",
       "mean_dt_TV1_TV3               25255\n",
       "med_dt_TV1_TV3                25255\n",
       "min_dt_TV1_TV4                25148\n",
       "mean_dt_TV1_TV4               25148\n",
       "med_dt_TV1_TV4                25148\n",
       "NbSecondWithAtLeatOneTrade        0\n",
       "dtype: int64"
      ]
     },
     "metadata": {},
     "execution_count": 8
    }
   ],
   "source": [
    "X_anonymized_clean.isna().sum()"
   ]
  },
  {
   "cell_type": "code",
   "execution_count": 9,
   "metadata": {},
   "outputs": [
    {
     "output_type": "execute_result",
     "data": {
      "text/plain": [
       "   Index  Share  Day        OCR  min_time_two_events  mean_time_two_events  \\\n",
       "0      1      8   24   8.333333                  0.0           5117.830300   \n",
       "1      2     87   29  25.166667                  0.0           1846.968401   \n",
       "2      3     87   23  47.300000                  0.0            686.300630   \n",
       "3      4     12   11  14.500000                  0.0           2174.335265   \n",
       "4      5     87    9  26.750000                  0.0            944.008551   \n",
       "\n",
       "   10_p_time_two_events  med_time_two_events  25_p_time_two_events  \\\n",
       "0              0.000000           419.688500             10.722543   \n",
       "1              0.000074             0.003374              0.000204   \n",
       "2              0.000071             0.000599              0.000129   \n",
       "3              0.000000             6.152666              0.000945   \n",
       "4              0.000071             0.001364              0.000146   \n",
       "\n",
       "   75_p_time_two_events  ...  10_p_lifetime_cancel  med_lifetime_cancel  \\\n",
       "0            984.320560  ...            682.153260            984.32056   \n",
       "1              8.768699  ...             11.866026            177.93991   \n",
       "2              5.725427  ...              2.761036            187.99548   \n",
       "3             62.444176  ...            286.019320            286.01932   \n",
       "4              2.225420  ...              2.798452           1345.95280   \n",
       "\n",
       "   25_p_lifetime_cancel  75_p_lifetime_cancel  90_p_lifetime_cancel  \\\n",
       "0             682.15326           23151.83800            23151.8380   \n",
       "1              73.74323             808.26230            21433.6840   \n",
       "2              19.77734             418.23984             1953.6235   \n",
       "3             286.01932           19187.71900            19187.7190   \n",
       "4             662.57434           21903.78300            23164.5140   \n",
       "\n",
       "   max_lifetime_cancel  NbTradeVenueMic  MaxNbTradesBySecond  \\\n",
       "0            23151.838                1                    7   \n",
       "1            21433.684                1                   17   \n",
       "2            10842.464                1                   20   \n",
       "3            19187.719                1                    8   \n",
       "4            23164.514                1                   19   \n",
       "\n",
       "   MeanNbTradesBySecond  NbSecondWithAtLeatOneTrade  \n",
       "0              2.750000                           4  \n",
       "1              5.933333                          15  \n",
       "2              5.063492                          63  \n",
       "3              4.250000                           4  \n",
       "4              3.710526                          38  \n",
       "\n",
       "[5 rows x 24 columns]"
      ],
      "text/html": "<div>\n<style scoped>\n    .dataframe tbody tr th:only-of-type {\n        vertical-align: middle;\n    }\n\n    .dataframe tbody tr th {\n        vertical-align: top;\n    }\n\n    .dataframe thead th {\n        text-align: right;\n    }\n</style>\n<table border=\"1\" class=\"dataframe\">\n  <thead>\n    <tr style=\"text-align: right;\">\n      <th></th>\n      <th>Index</th>\n      <th>Share</th>\n      <th>Day</th>\n      <th>OCR</th>\n      <th>min_time_two_events</th>\n      <th>mean_time_two_events</th>\n      <th>10_p_time_two_events</th>\n      <th>med_time_two_events</th>\n      <th>25_p_time_two_events</th>\n      <th>75_p_time_two_events</th>\n      <th>...</th>\n      <th>10_p_lifetime_cancel</th>\n      <th>med_lifetime_cancel</th>\n      <th>25_p_lifetime_cancel</th>\n      <th>75_p_lifetime_cancel</th>\n      <th>90_p_lifetime_cancel</th>\n      <th>max_lifetime_cancel</th>\n      <th>NbTradeVenueMic</th>\n      <th>MaxNbTradesBySecond</th>\n      <th>MeanNbTradesBySecond</th>\n      <th>NbSecondWithAtLeatOneTrade</th>\n    </tr>\n  </thead>\n  <tbody>\n    <tr>\n      <th>0</th>\n      <td>1</td>\n      <td>8</td>\n      <td>24</td>\n      <td>8.333333</td>\n      <td>0.0</td>\n      <td>5117.830300</td>\n      <td>0.000000</td>\n      <td>419.688500</td>\n      <td>10.722543</td>\n      <td>984.320560</td>\n      <td>...</td>\n      <td>682.153260</td>\n      <td>984.32056</td>\n      <td>682.15326</td>\n      <td>23151.83800</td>\n      <td>23151.8380</td>\n      <td>23151.838</td>\n      <td>1</td>\n      <td>7</td>\n      <td>2.750000</td>\n      <td>4</td>\n    </tr>\n    <tr>\n      <th>1</th>\n      <td>2</td>\n      <td>87</td>\n      <td>29</td>\n      <td>25.166667</td>\n      <td>0.0</td>\n      <td>1846.968401</td>\n      <td>0.000074</td>\n      <td>0.003374</td>\n      <td>0.000204</td>\n      <td>8.768699</td>\n      <td>...</td>\n      <td>11.866026</td>\n      <td>177.93991</td>\n      <td>73.74323</td>\n      <td>808.26230</td>\n      <td>21433.6840</td>\n      <td>21433.684</td>\n      <td>1</td>\n      <td>17</td>\n      <td>5.933333</td>\n      <td>15</td>\n    </tr>\n    <tr>\n      <th>2</th>\n      <td>3</td>\n      <td>87</td>\n      <td>23</td>\n      <td>47.300000</td>\n      <td>0.0</td>\n      <td>686.300630</td>\n      <td>0.000071</td>\n      <td>0.000599</td>\n      <td>0.000129</td>\n      <td>5.725427</td>\n      <td>...</td>\n      <td>2.761036</td>\n      <td>187.99548</td>\n      <td>19.77734</td>\n      <td>418.23984</td>\n      <td>1953.6235</td>\n      <td>10842.464</td>\n      <td>1</td>\n      <td>20</td>\n      <td>5.063492</td>\n      <td>63</td>\n    </tr>\n    <tr>\n      <th>3</th>\n      <td>4</td>\n      <td>12</td>\n      <td>11</td>\n      <td>14.500000</td>\n      <td>0.0</td>\n      <td>2174.335265</td>\n      <td>0.000000</td>\n      <td>6.152666</td>\n      <td>0.000945</td>\n      <td>62.444176</td>\n      <td>...</td>\n      <td>286.019320</td>\n      <td>286.01932</td>\n      <td>286.01932</td>\n      <td>19187.71900</td>\n      <td>19187.7190</td>\n      <td>19187.719</td>\n      <td>1</td>\n      <td>8</td>\n      <td>4.250000</td>\n      <td>4</td>\n    </tr>\n    <tr>\n      <th>4</th>\n      <td>5</td>\n      <td>87</td>\n      <td>9</td>\n      <td>26.750000</td>\n      <td>0.0</td>\n      <td>944.008551</td>\n      <td>0.000071</td>\n      <td>0.001364</td>\n      <td>0.000146</td>\n      <td>2.225420</td>\n      <td>...</td>\n      <td>2.798452</td>\n      <td>1345.95280</td>\n      <td>662.57434</td>\n      <td>21903.78300</td>\n      <td>23164.5140</td>\n      <td>23164.514</td>\n      <td>1</td>\n      <td>19</td>\n      <td>3.710526</td>\n      <td>38</td>\n    </tr>\n  </tbody>\n</table>\n<p>5 rows × 24 columns</p>\n</div>"
     },
     "metadata": {},
     "execution_count": 9
    }
   ],
   "source": [
    "X_anonymized_clean.dropna(axis=\"columns\", inplace=True)\n",
    "X_anonymized_clean.head()"
   ]
  },
  {
   "cell_type": "code",
   "execution_count": 10,
   "metadata": {},
   "outputs": [],
   "source": [
    "X_train, X_valid, y_train, y_valid = train_test_split(\n",
    "    X_anonymized_clean, y_train_reshaped, train_size=0.7, random_state=15)"
   ]
  },
  {
   "source": [
    "## Classifier & classification for each line"
   ],
   "cell_type": "markdown",
   "metadata": {}
  },
  {
   "cell_type": "code",
   "execution_count": 11,
   "metadata": {},
   "outputs": [
    {
     "output_type": "execute_result",
     "data": {
      "text/plain": [
       "RandomForestClassifier()"
      ]
     },
     "metadata": {},
     "execution_count": 11
    }
   ],
   "source": [
    "classifier = RandomForestClassifier()\n",
    "classifier.fit(X_train, y_train)"
   ]
  },
  {
   "cell_type": "code",
   "execution_count": 12,
   "metadata": {},
   "outputs": [
    {
     "output_type": "stream",
     "name": "stdout",
     "text": [
      "98.61%\n"
     ]
    }
   ],
   "source": [
    "print('{:0.2%}'.format(classifier.score(X_valid, y_valid)))"
   ]
  },
  {
   "source": [
    "Very good accuracy simply on the lines"
   ],
   "cell_type": "markdown",
   "metadata": {}
  },
  {
   "source": [
    "## Building the prediction at csv format"
   ],
   "cell_type": "markdown",
   "metadata": {}
  },
  {
   "cell_type": "code",
   "execution_count": 13,
   "metadata": {},
   "outputs": [],
   "source": [
    "X_test = X_test_original.copy()\n",
    "\n",
    "X_test.drop(columns='Trader', inplace=True)\n",
    "X_test[\"Share\"] = pd.to_numeric(X_test[\"Share\"].str[5::], downcast='integer')\n",
    "X_test[\"Day\"] = pd.to_numeric(X_test[\"Day\"].str[5::], downcast='integer')\n",
    "X_test.dropna(axis=\"columns\", inplace=True)\n",
    "\n",
    "\n",
    "y_test = classifier.predict(X_test)"
   ]
  },
  {
   "cell_type": "code",
   "execution_count": 14,
   "metadata": {},
   "outputs": [
    {
     "output_type": "execute_result",
     "data": {
      "text/plain": [
       "   Index    Share      Day     Trader       OTR        OCR         OMR  \\\n",
       "0      1   Isin_8  Date_24  Trader_10  2.272727   8.333333   12.500000   \n",
       "1      2  Isin_87  Date_29  Trader_10  1.696629  25.166667   21.571429   \n",
       "2      3  Isin_87  Date_23  Trader_10  1.482759  47.300000  118.250000   \n",
       "3      4  Isin_12  Date_11  Trader_10  1.705882  14.500000   29.000000   \n",
       "4      5  Isin_87   Date_9  Trader_10  1.517730  26.750000         NaN   \n",
       "\n",
       "   min_time_two_events  mean_time_two_events  10_p_time_two_events  ...  \\\n",
       "0                  0.0           5117.830300              0.000000  ...   \n",
       "1                  0.0           1846.968401              0.000074  ...   \n",
       "2                  0.0            686.300630              0.000071  ...   \n",
       "3                  0.0           2174.335265              0.000000  ...   \n",
       "4                  0.0            944.008551              0.000071  ...   \n",
       "\n",
       "   mean_dt_TV1_TV2  med_dt_TV1_TV2  min_dt_TV1_TV3  mean_dt_TV1_TV3  \\\n",
       "0              NaN             NaN             NaN              NaN   \n",
       "1              NaN             NaN             NaN              NaN   \n",
       "2              NaN             NaN             NaN              NaN   \n",
       "3              NaN             NaN             NaN              NaN   \n",
       "4              NaN             NaN             NaN              NaN   \n",
       "\n",
       "   med_dt_TV1_TV3  min_dt_TV1_TV4  mean_dt_TV1_TV4  med_dt_TV1_TV4  \\\n",
       "0             NaN             NaN              NaN             NaN   \n",
       "1             NaN             NaN              NaN             NaN   \n",
       "2             NaN             NaN              NaN             NaN   \n",
       "3             NaN             NaN              NaN             NaN   \n",
       "4             NaN             NaN              NaN             NaN   \n",
       "\n",
       "   NbSecondWithAtLeatOneTrade     pred  \n",
       "0                           4  NON HFT  \n",
       "1                          15  NON HFT  \n",
       "2                          63  NON HFT  \n",
       "3                           4  NON HFT  \n",
       "4                          38  NON HFT  \n",
       "\n",
       "[5 rows x 40 columns]"
      ],
      "text/html": "<div>\n<style scoped>\n    .dataframe tbody tr th:only-of-type {\n        vertical-align: middle;\n    }\n\n    .dataframe tbody tr th {\n        vertical-align: top;\n    }\n\n    .dataframe thead th {\n        text-align: right;\n    }\n</style>\n<table border=\"1\" class=\"dataframe\">\n  <thead>\n    <tr style=\"text-align: right;\">\n      <th></th>\n      <th>Index</th>\n      <th>Share</th>\n      <th>Day</th>\n      <th>Trader</th>\n      <th>OTR</th>\n      <th>OCR</th>\n      <th>OMR</th>\n      <th>min_time_two_events</th>\n      <th>mean_time_two_events</th>\n      <th>10_p_time_two_events</th>\n      <th>...</th>\n      <th>mean_dt_TV1_TV2</th>\n      <th>med_dt_TV1_TV2</th>\n      <th>min_dt_TV1_TV3</th>\n      <th>mean_dt_TV1_TV3</th>\n      <th>med_dt_TV1_TV3</th>\n      <th>min_dt_TV1_TV4</th>\n      <th>mean_dt_TV1_TV4</th>\n      <th>med_dt_TV1_TV4</th>\n      <th>NbSecondWithAtLeatOneTrade</th>\n      <th>pred</th>\n    </tr>\n  </thead>\n  <tbody>\n    <tr>\n      <th>0</th>\n      <td>1</td>\n      <td>Isin_8</td>\n      <td>Date_24</td>\n      <td>Trader_10</td>\n      <td>2.272727</td>\n      <td>8.333333</td>\n      <td>12.500000</td>\n      <td>0.0</td>\n      <td>5117.830300</td>\n      <td>0.000000</td>\n      <td>...</td>\n      <td>NaN</td>\n      <td>NaN</td>\n      <td>NaN</td>\n      <td>NaN</td>\n      <td>NaN</td>\n      <td>NaN</td>\n      <td>NaN</td>\n      <td>NaN</td>\n      <td>4</td>\n      <td>NON HFT</td>\n    </tr>\n    <tr>\n      <th>1</th>\n      <td>2</td>\n      <td>Isin_87</td>\n      <td>Date_29</td>\n      <td>Trader_10</td>\n      <td>1.696629</td>\n      <td>25.166667</td>\n      <td>21.571429</td>\n      <td>0.0</td>\n      <td>1846.968401</td>\n      <td>0.000074</td>\n      <td>...</td>\n      <td>NaN</td>\n      <td>NaN</td>\n      <td>NaN</td>\n      <td>NaN</td>\n      <td>NaN</td>\n      <td>NaN</td>\n      <td>NaN</td>\n      <td>NaN</td>\n      <td>15</td>\n      <td>NON HFT</td>\n    </tr>\n    <tr>\n      <th>2</th>\n      <td>3</td>\n      <td>Isin_87</td>\n      <td>Date_23</td>\n      <td>Trader_10</td>\n      <td>1.482759</td>\n      <td>47.300000</td>\n      <td>118.250000</td>\n      <td>0.0</td>\n      <td>686.300630</td>\n      <td>0.000071</td>\n      <td>...</td>\n      <td>NaN</td>\n      <td>NaN</td>\n      <td>NaN</td>\n      <td>NaN</td>\n      <td>NaN</td>\n      <td>NaN</td>\n      <td>NaN</td>\n      <td>NaN</td>\n      <td>63</td>\n      <td>NON HFT</td>\n    </tr>\n    <tr>\n      <th>3</th>\n      <td>4</td>\n      <td>Isin_12</td>\n      <td>Date_11</td>\n      <td>Trader_10</td>\n      <td>1.705882</td>\n      <td>14.500000</td>\n      <td>29.000000</td>\n      <td>0.0</td>\n      <td>2174.335265</td>\n      <td>0.000000</td>\n      <td>...</td>\n      <td>NaN</td>\n      <td>NaN</td>\n      <td>NaN</td>\n      <td>NaN</td>\n      <td>NaN</td>\n      <td>NaN</td>\n      <td>NaN</td>\n      <td>NaN</td>\n      <td>4</td>\n      <td>NON HFT</td>\n    </tr>\n    <tr>\n      <th>4</th>\n      <td>5</td>\n      <td>Isin_87</td>\n      <td>Date_9</td>\n      <td>Trader_10</td>\n      <td>1.517730</td>\n      <td>26.750000</td>\n      <td>NaN</td>\n      <td>0.0</td>\n      <td>944.008551</td>\n      <td>0.000071</td>\n      <td>...</td>\n      <td>NaN</td>\n      <td>NaN</td>\n      <td>NaN</td>\n      <td>NaN</td>\n      <td>NaN</td>\n      <td>NaN</td>\n      <td>NaN</td>\n      <td>NaN</td>\n      <td>38</td>\n      <td>NON HFT</td>\n    </tr>\n  </tbody>\n</table>\n<p>5 rows × 40 columns</p>\n</div>"
     },
     "metadata": {},
     "execution_count": 14
    }
   ],
   "source": [
    "X_test_pred = X_test_original.copy()\n",
    "X_test_pred['pred'] = y_test\n",
    "X_test_pred.head()"
   ]
  },
  {
   "cell_type": "code",
   "execution_count": 15,
   "metadata": {},
   "outputs": [],
   "source": [
    "# hft_preds = X_test_pred[X_test_pred[\"pred\"] == 'HFT'].groupby(by='Trader').count().unstack(fill_value=0)\n",
    "# mix_preds = X_test_pred[X_test_pred[\"pred\"] == 'MIX'].groupby(by='Trader').count()[\"Index\"]\n",
    "# non_HFT_preds = X_test_pred[X_test_pred[\"pred\"] == 'NON HFT'].groupby(by='Trader').count()[\"Index\"]\n",
    "# traders_list = [X_test_pred['Trader'].unique()]\n",
    "\n",
    "# midx = pd.MultiIndex.from_product(traders_list, names=['Trader'])\n",
    "# Because group by does not take into account the count 0s, we need to add them now\n",
    "\n",
    "# hft_preds = hft_preds.reindex(midx, fill_value=0)"
   ]
  },
  {
   "cell_type": "code",
   "execution_count": 16,
   "metadata": {},
   "outputs": [],
   "source": [
    "traders_list = np.unique(X_test_pred[\"Trader\"])\n",
    "preds_list = []\n",
    "\n",
    "for trader in traders_list:\n",
    "    df_reduced = X_test_pred[X_test_pred['Trader'] == trader][\"pred\"]\n",
    "    counts = df_reduced.value_counts()\n",
    "\n",
    "    # Non HFT\n",
    "    try:\n",
    "        non_hft_count = counts[\"NON HFT\"]\n",
    "    except:\n",
    "        non_hft_count = 0\n",
    "\n",
    "    # HFT\n",
    "    try:\n",
    "        hft_count = counts[\"HFT\"]\n",
    "    except:\n",
    "        hft_count = 0\n",
    "\n",
    "    # MIX\n",
    "    try:\n",
    "        mix_count = counts[\"MIX\"]\n",
    "    except:\n",
    "        mix_count = 0\n",
    "\n",
    "    total_count = hft_count + mix_count + non_hft_count\n",
    "    if hft_count / total_count >= 0.85:\n",
    "        pred = \"HFT\"\n",
    "    elif mix_count / total_count >= 0.5:\n",
    "        pred = \"MIX\"\n",
    "    else:\n",
    "        pred = \"NON HFT\"\n",
    "\n",
    "    preds_list.append(pred)"
   ]
  },
  {
   "cell_type": "code",
   "execution_count": 17,
   "metadata": {},
   "outputs": [
    {
     "output_type": "execute_result",
     "data": {
      "text/plain": [
       "           Predictions\n",
       "Traders               \n",
       "Trader_10      NON HFT\n",
       "Trader_105     NON HFT\n",
       "Trader_107         MIX\n",
       "Trader_110     NON HFT\n",
       "Trader_114     NON HFT\n",
       "...                ...\n",
       "Trader_51      NON HFT\n",
       "Trader_54      NON HFT\n",
       "Trader_57      NON HFT\n",
       "Trader_59      NON HFT\n",
       "Trader_60      NON HFT\n",
       "\n",
       "[86 rows x 1 columns]"
      ],
      "text/html": "<div>\n<style scoped>\n    .dataframe tbody tr th:only-of-type {\n        vertical-align: middle;\n    }\n\n    .dataframe tbody tr th {\n        vertical-align: top;\n    }\n\n    .dataframe thead th {\n        text-align: right;\n    }\n</style>\n<table border=\"1\" class=\"dataframe\">\n  <thead>\n    <tr style=\"text-align: right;\">\n      <th></th>\n      <th>Predictions</th>\n    </tr>\n    <tr>\n      <th>Traders</th>\n      <th></th>\n    </tr>\n  </thead>\n  <tbody>\n    <tr>\n      <th>Trader_10</th>\n      <td>NON HFT</td>\n    </tr>\n    <tr>\n      <th>Trader_105</th>\n      <td>NON HFT</td>\n    </tr>\n    <tr>\n      <th>Trader_107</th>\n      <td>MIX</td>\n    </tr>\n    <tr>\n      <th>Trader_110</th>\n      <td>NON HFT</td>\n    </tr>\n    <tr>\n      <th>Trader_114</th>\n      <td>NON HFT</td>\n    </tr>\n    <tr>\n      <th>...</th>\n      <td>...</td>\n    </tr>\n    <tr>\n      <th>Trader_51</th>\n      <td>NON HFT</td>\n    </tr>\n    <tr>\n      <th>Trader_54</th>\n      <td>NON HFT</td>\n    </tr>\n    <tr>\n      <th>Trader_57</th>\n      <td>NON HFT</td>\n    </tr>\n    <tr>\n      <th>Trader_59</th>\n      <td>NON HFT</td>\n    </tr>\n    <tr>\n      <th>Trader_60</th>\n      <td>NON HFT</td>\n    </tr>\n  </tbody>\n</table>\n<p>86 rows × 1 columns</p>\n</div>"
     },
     "metadata": {},
     "execution_count": 17
    }
   ],
   "source": [
    "data = {\"Predictions\": preds_list, \"Traders\": traders_list}\n",
    "output = pd.DataFrame(data).set_index(\"Traders\")\n",
    "output"
   ]
  }
 ]
}