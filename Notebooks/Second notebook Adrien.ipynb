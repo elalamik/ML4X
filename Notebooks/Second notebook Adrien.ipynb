{
 "metadata": {
  "language_info": {
   "codemirror_mode": {
    "name": "ipython",
    "version": 3
   },
   "file_extension": ".py",
   "mimetype": "text/x-python",
   "name": "python",
   "nbconvert_exporter": "python",
   "pygments_lexer": "ipython3",
   "version": "3.8.5-final"
  },
  "orig_nbformat": 2,
  "kernelspec": {
   "name": "python3",
   "display_name": "Python 3.8.5 64-bit ('V-env ML2 Project': conda)",
   "metadata": {
    "interpreter": {
     "hash": "9a92a7a804b2912bfd81e525e92964d0d5dde8f9501a8e359e651a9b3d7baf8a"
    }
   }
  }
 },
 "nbformat": 4,
 "nbformat_minor": 2,
 "cells": [
  {
   "cell_type": "code",
   "execution_count": 2,
   "metadata": {},
   "outputs": [],
   "source": [
    "%matplotlib inline\n",
    "import pandas as pd\n",
    "from sklearn.ensemble import RandomForestClassifier\n",
    "from sklearn.model_selection import train_test_split\n",
    "import numpy as np\n",
    "import os"
   ]
  },
  {
   "cell_type": "code",
   "execution_count": 3,
   "metadata": {},
   "outputs": [],
   "source": [
    "filepath_X_train = os.path.join(os.path.abspath('..'), 'Files', 'AMF_train_X.csv')\n",
    "filepath_y_train = os.path.join(os.path.abspath('..'), 'Files', 'AMF_train_Y.csv')\n",
    "filepath_X_test = os.path.join(os.path.abspath('..'), 'Files', 'AMF_train_X.csv')\n",
    "\n",
    "\n",
    "X_train_original = pd.read_csv(filepath_X_train)\n",
    "y_train_original = pd.read_csv(filepath_y_train)\n",
    "X_test_original = pd.read_csv(filepath_X_test)"
   ]
  },
  {
   "cell_type": "code",
   "execution_count": 4,
   "metadata": {},
   "outputs": [],
   "source": [
    "X_with_label = pd.merge(X_train_original, y_train_original, how='left', on=\"Trader\")\n",
    "y_train_reshaped = X_with_label['type']\n",
    "X_anonymized = X_with_label.drop(columns=['Trader', 'type'])\n",
    "X_anonymized[\"Share\"] = pd.to_numeric(X_anonymized[\"Share\"].str[5::], downcast='integer')\n",
    "X_anonymized[\"Day\"] = pd.to_numeric(X_anonymized[\"Day\"].str[5::], downcast='integer')\n",
    "X_anonymized.dropna(axis=\"columns\", inplace=True)"
   ]
  },
  {
   "cell_type": "code",
   "execution_count": 6,
   "metadata": {},
   "outputs": [],
   "source": [
    "X_train, X_valid, y_train, y_valid = train_test_split(\n",
    "    X_anonymized, y_train_reshaped, train_size=0.7, random_state=15)\n",
    "\n",
    "classifier = RandomForestClassifier()\n",
    "classifier.fit(X_train, y_train)\n",
    "\n",
    "y_train_pred = classifier.predict(X_train)\n"
   ]
  },
  {
   "cell_type": "code",
   "execution_count": 7,
   "metadata": {},
   "outputs": [],
   "source": [
    "X_test = X_test_original.copy()\n",
    "\n",
    "X_test.drop(columns='Trader', inplace=True)\n",
    "X_test[\"Share\"] = pd.to_numeric(X_test[\"Share\"].str[5::], downcast='integer')\n",
    "X_test[\"Day\"] = pd.to_numeric(X_test[\"Day\"].str[5::], downcast='integer')\n",
    "X_test.dropna(axis=\"columns\", inplace=True)\n",
    "\n",
    "y_test_first = classifier.predict(X_test)\n",
    "X_test_first_pred = X_test_original.copy()\n",
    "X_test_first_pred['pred'] = y_test_first"
   ]
  },
  {
   "cell_type": "code",
   "execution_count": 8,
   "metadata": {},
   "outputs": [],
   "source": [
    "def pred_from_global_list_to_csv(X_test_with_pred):\n",
    "    traders_list = np.unique(X_test_with_pred[\"Trader\"])\n",
    "    preds_list_AMF_calc = []\n",
    "    non_hft_percent = []\n",
    "    hft_percent = []\n",
    "    mix_percent = []\n",
    "    for trader in traders_list:\n",
    "        df_reduced = X_test_with_pred[X_test_with_pred['Trader'] == trader][\"pred\"]\n",
    "        counts = df_reduced.value_counts()\n",
    "\n",
    "        # Non HFT\n",
    "        try:\n",
    "            non_hft_count = counts[\"NON HFT\"]\n",
    "        except:\n",
    "            non_hft_count = 0\n",
    "\n",
    "        # HFT\n",
    "        try:\n",
    "            hft_count = counts[\"HFT\"]\n",
    "        except:\n",
    "            hft_count = 0\n",
    "\n",
    "        # MIX\n",
    "        try:\n",
    "            mix_count = counts[\"MIX\"]\n",
    "        except:\n",
    "            mix_count = 0\n",
    "\n",
    "        total_count = hft_count + mix_count + non_hft_count\n",
    "        hft_percent.append(hft_count / total_count)\n",
    "        mix_percent.append(mix_count / total_count)\n",
    "        non_hft_percent.append(non_hft_count / total_count)\n",
    "\n",
    "        if hft_count / total_count >= 0.85:\n",
    "            pred = \"HFT\"\n",
    "        elif mix_count / total_count >= 0.5:\n",
    "            pred = \"MIX\"\n",
    "        else:\n",
    "            pred = \"NON HFT\"\n",
    "\n",
    "        preds_list_AMF_calc.append(pred)\n",
    "\n",
    "    dic_percentages = {\n",
    "        \"Predictions\": preds_list_AMF_calc, \n",
    "        \"percent days HFT\": hft_percent,\n",
    "        \"percent days mix\": mix_percent,\n",
    "        \"percent days non hft\": non_hft_percent,\n",
    "        \"Trader\": traders_list}\n",
    "\n",
    "    output_percentages_table = pd.DataFrame(dic_percentages).set_index(\"Trader\")\n",
    "\n",
    "    dic_output_AMF = {\"Predictions\": preds_list_AMF_calc, \"Trader\": traders_list}\n",
    "    output_AMF_calcs = pd.DataFrame(dic_output_AMF).set_index(\"Trader\")\n",
    "    \n",
    "    return output_percentages_table, output_AMF_calcs"
   ]
  },
  {
   "cell_type": "code",
   "execution_count": 9,
   "metadata": {},
   "outputs": [],
   "source": [
    "first_percentages, first_output = pred_from_global_list_to_csv(X_test_first_pred)"
   ]
  },
  {
   "cell_type": "code",
   "execution_count": 10,
   "metadata": {},
   "outputs": [],
   "source": [
    "# Comparing all outputs to see where they can be issues\n",
    "\n",
    "X_comparison_preds = pd.merge(first_percentages, y_train_original, how='left', on=\"Trader\")"
   ]
  },
  {
   "cell_type": "code",
   "execution_count": 11,
   "metadata": {},
   "outputs": [
    {
     "output_type": "execute_result",
     "data": {
      "text/plain": [
       "        Trader Predictions  percent days HFT  percent days mix  \\\n",
       "62  Trader_385     NON HFT             0.375             0.125   \n",
       "\n",
       "    percent days non hft type  \n",
       "62                   0.5  HFT  "
      ],
      "text/html": "<div>\n<style scoped>\n    .dataframe tbody tr th:only-of-type {\n        vertical-align: middle;\n    }\n\n    .dataframe tbody tr th {\n        vertical-align: top;\n    }\n\n    .dataframe thead th {\n        text-align: right;\n    }\n</style>\n<table border=\"1\" class=\"dataframe\">\n  <thead>\n    <tr style=\"text-align: right;\">\n      <th></th>\n      <th>Trader</th>\n      <th>Predictions</th>\n      <th>percent days HFT</th>\n      <th>percent days mix</th>\n      <th>percent days non hft</th>\n      <th>type</th>\n    </tr>\n  </thead>\n  <tbody>\n    <tr>\n      <th>62</th>\n      <td>Trader_385</td>\n      <td>NON HFT</td>\n      <td>0.375</td>\n      <td>0.125</td>\n      <td>0.5</td>\n      <td>HFT</td>\n    </tr>\n  </tbody>\n</table>\n</div>"
     },
     "metadata": {},
     "execution_count": 11
    }
   ],
   "source": [
    "X_comparison_preds[X_comparison_preds[\"Predictions\"] != X_comparison_preds[\"type\"]]"
   ]
  },
  {
   "cell_type": "code",
   "execution_count": null,
   "metadata": {},
   "outputs": [],
   "source": [
    "X_new = X_comparison_preds"
   ]
  }
 ]
}